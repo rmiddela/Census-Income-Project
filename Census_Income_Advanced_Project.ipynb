{
 "cells": [
  {
   "cell_type": "markdown",
   "metadata": {
    "id": "nnRx7B_i_bNK"
   },
   "source": [
    "# Census Income Data Set"
   ]
  },
  {
   "cell_type": "markdown",
   "metadata": {
    "id": "rcMuMEBjuUNJ"
   },
   "source": [
    "# Income Classification Model\n",
    "## Introduction\n",
    "The income dataset was extracted from 1994 U.S. Census database.\n",
    "\n",
    "## The importance of census statistics\n",
    "The census is a special, wide-range activity, which takes place once a decade in the entire country. The purpose is to gather information about the general population, in order to present a full and reliable picture of the population in the country - its housing conditions and demographic, social and economic characteristics. The information collected includes data on age, gender, country of origin, marital status, housing conditions, marriage, education, employment, etc.\n",
    "\n",
    "This information makes it possible to plan better services, improve the quality of life and solve existing problems. Statistical information, which serves as the basis for constructing planning forecasts, is essential for the democratic process since it enables the citizens to examine the decisions made by the government and local authorities, and decide whether they serve the public they are meant to help.\n",
    "\n",
    "## Objective of the project\n",
    "The goal of this machine learning project is to predict whether a person makes over 50K a year or not given their demographic variation. To achieve this, several classification techniques are explored and the random forest model yields to the best prediction result.\n",
    "\n",
    "## Features Description\n",
    "1. Categorical Attributes\n",
    "\n",
    "workclass: Private, Self-emp-not-inc, Self-emp-inc, Federal-gov, Local-gov, State-gov, Without-pay, Never-worked.\n",
    "Individual work category\n",
    "\n",
    "education: Bachelors, Some-college, 11th, HS-grad, Prof-school, Assoc-acdm, Assoc-voc, 9th, 7th-8th, 12th, Masters, 1st-4th, 10th, Doctorate, 5th-6th, Preschool.\n",
    "Individual's highest education degree\n",
    "\n",
    "marital-status: Married-civ-spouse, Divorced, Never-married, Separated, Widowed, Married-spouse-absent, Married-AF-spouse.\n",
    "Individual marital status\n",
    "\n",
    "occupation: Tech-support, Craft-repair, Other-service, Sales, Exec-managerial, Prof-specialty, Handlers-cleaners, Machine-op-inspct, Adm-clerical, Farming-fishing, Transport-moving, Priv-house-serv, Protective-serv, Armed-Forces.\n",
    "Individual's occupation\n",
    "\n",
    "relationship: Wife, Own-child, Husband, Not-in-family, Other-relative, Unmarried.\n",
    "Individual's relation in a family\n",
    "\n",
    "race: White, Asian-Pac-Islander, Amer-Indian-Eskimo, Other, Black.\n",
    "Race of Individual\n",
    "\n",
    "sex: Female, Male.\n",
    "\n",
    "native-country: United-States, Cambodia, England, Puerto-Rico, Canada, Germany, Outlying-US(Guam-USVI-etc), India, Japan, Greece, South, China, Cuba, Iran, Honduras, Philippines, Italy, Poland, Jamaica, Vietnam, Mexico, Portugal, Ireland, France, Dominican-Republic, Laos, Ecuador, Taiwan, Haiti, Columbia, Hungary, Guatemala, Nicaragua, Scotland, Thailand, Yugoslavia, El-Salvador, Trinadad&Tobago, Peru, Hong, Holand-Netherlands.\n",
    "Individual's native country\n",
    "\n",
    "2. Continuous Attributes\n",
    "\n",
    "age: continuous.\n",
    "Age of an individual\n",
    "\n",
    "fnlwgt: final weight, continuous.\n",
    "The weights on the CPS files are controlled to independent estimates of the civilian noninstitutional population of the US. These are prepared monthly for us by Population Division here at the Census Bureau.\n",
    "\n",
    "capital-gain: continuous.\n",
    "\n",
    "capital-loss: continuous.\n",
    "\n",
    "hours-per-week: continuous.\n",
    "Individual's working hour per week"
   ]
  },
  {
   "cell_type": "markdown",
   "metadata": {
    "id": "_vgHKMzv_bNX"
   },
   "source": [
    "# 2. Fetching Data:"
   ]
  },
  {
   "cell_type": "markdown",
   "metadata": {
    "id": "aYAWpi9R_bNX"
   },
   "source": [
    "## 2.1 Import packages"
   ]
  },
  {
   "cell_type": "code",
   "execution_count": 2,
   "metadata": {
    "_cell_guid": "b1076dfc-b9ad-4769-8c92-a6c4dae69d19",
    "_uuid": "8f2839f25d086af736a60e9eeb907d3b93b6e0e5",
    "id": "pG9J0Ga8_bNY"
   },
   "outputs": [],
   "source": [
    "import numpy as np \n",
    "import pandas as pd \n",
    "import seaborn as sns\n",
    "import matplotlib.pyplot as plt\n",
    "%matplotlib inline\n",
    "import warnings\n",
    "warnings.filterwarnings(\"ignore\")\n",
    "from scipy.stats import ttest_ind, ttest_rel\n",
    "from scipy import stats"
   ]
  },
  {
   "cell_type": "markdown",
   "metadata": {
    "id": "zgu7uZB__bNY"
   },
   "source": [
    "## 2.2 Import data"
   ]
  },
  {
   "cell_type": "code",
   "execution_count": 3,
   "metadata": {
    "_cell_guid": "79c7e3d0-c299-4dcb-8224-4455121ee9b0",
    "_uuid": "d629ff2d2480ee46fbb7e2d37f6b5fab8052498a",
    "colab": {
     "base_uri": "https://localhost:8080/",
     "height": 354
    },
    "id": "D5K4YgvS_bNZ",
    "outputId": "026bddbf-69b3-43c0-bb1a-84ee8e843853"
   },
   "outputs": [
    {
     "data": {
      "text/html": [
       "<div>\n",
       "<style scoped>\n",
       "    .dataframe tbody tr th:only-of-type {\n",
       "        vertical-align: middle;\n",
       "    }\n",
       "\n",
       "    .dataframe tbody tr th {\n",
       "        vertical-align: top;\n",
       "    }\n",
       "\n",
       "    .dataframe thead th {\n",
       "        text-align: right;\n",
       "    }\n",
       "</style>\n",
       "<table border=\"1\" class=\"dataframe\">\n",
       "  <thead>\n",
       "    <tr style=\"text-align: right;\">\n",
       "      <th></th>\n",
       "      <th>age</th>\n",
       "      <th>workclass</th>\n",
       "      <th>fnlwgt</th>\n",
       "      <th>education</th>\n",
       "      <th>education-num</th>\n",
       "      <th>marital-status</th>\n",
       "      <th>occupation</th>\n",
       "      <th>relationship</th>\n",
       "      <th>race</th>\n",
       "      <th>sex</th>\n",
       "      <th>capital-gain</th>\n",
       "      <th>capital-loss</th>\n",
       "      <th>hours-per-week</th>\n",
       "      <th>native-country</th>\n",
       "      <th>annual_income</th>\n",
       "    </tr>\n",
       "  </thead>\n",
       "  <tbody>\n",
       "    <tr>\n",
       "      <th>0</th>\n",
       "      <td>39</td>\n",
       "      <td>State-gov</td>\n",
       "      <td>77516</td>\n",
       "      <td>Bachelors</td>\n",
       "      <td>13</td>\n",
       "      <td>Never-married</td>\n",
       "      <td>Adm-clerical</td>\n",
       "      <td>Not-in-family</td>\n",
       "      <td>White</td>\n",
       "      <td>Male</td>\n",
       "      <td>2174</td>\n",
       "      <td>0</td>\n",
       "      <td>40</td>\n",
       "      <td>United-States</td>\n",
       "      <td>&lt;=50K</td>\n",
       "    </tr>\n",
       "    <tr>\n",
       "      <th>1</th>\n",
       "      <td>50</td>\n",
       "      <td>Self-emp-not-inc</td>\n",
       "      <td>83311</td>\n",
       "      <td>Bachelors</td>\n",
       "      <td>13</td>\n",
       "      <td>Married-civ-spouse</td>\n",
       "      <td>Exec-managerial</td>\n",
       "      <td>Husband</td>\n",
       "      <td>White</td>\n",
       "      <td>Male</td>\n",
       "      <td>0</td>\n",
       "      <td>0</td>\n",
       "      <td>13</td>\n",
       "      <td>United-States</td>\n",
       "      <td>&lt;=50K</td>\n",
       "    </tr>\n",
       "    <tr>\n",
       "      <th>2</th>\n",
       "      <td>38</td>\n",
       "      <td>Private</td>\n",
       "      <td>215646</td>\n",
       "      <td>HS-grad</td>\n",
       "      <td>9</td>\n",
       "      <td>Divorced</td>\n",
       "      <td>Handlers-cleaners</td>\n",
       "      <td>Not-in-family</td>\n",
       "      <td>White</td>\n",
       "      <td>Male</td>\n",
       "      <td>0</td>\n",
       "      <td>0</td>\n",
       "      <td>40</td>\n",
       "      <td>United-States</td>\n",
       "      <td>&lt;=50K</td>\n",
       "    </tr>\n",
       "    <tr>\n",
       "      <th>3</th>\n",
       "      <td>53</td>\n",
       "      <td>Private</td>\n",
       "      <td>234721</td>\n",
       "      <td>11th</td>\n",
       "      <td>7</td>\n",
       "      <td>Married-civ-spouse</td>\n",
       "      <td>Handlers-cleaners</td>\n",
       "      <td>Husband</td>\n",
       "      <td>Black</td>\n",
       "      <td>Male</td>\n",
       "      <td>0</td>\n",
       "      <td>0</td>\n",
       "      <td>40</td>\n",
       "      <td>United-States</td>\n",
       "      <td>&lt;=50K</td>\n",
       "    </tr>\n",
       "    <tr>\n",
       "      <th>4</th>\n",
       "      <td>28</td>\n",
       "      <td>Private</td>\n",
       "      <td>338409</td>\n",
       "      <td>Bachelors</td>\n",
       "      <td>13</td>\n",
       "      <td>Married-civ-spouse</td>\n",
       "      <td>Prof-specialty</td>\n",
       "      <td>Wife</td>\n",
       "      <td>Black</td>\n",
       "      <td>Female</td>\n",
       "      <td>0</td>\n",
       "      <td>0</td>\n",
       "      <td>40</td>\n",
       "      <td>Cuba</td>\n",
       "      <td>&lt;=50K</td>\n",
       "    </tr>\n",
       "  </tbody>\n",
       "</table>\n",
       "</div>"
      ],
      "text/plain": [
       "   age         workclass  fnlwgt  education  education-num  \\\n",
       "0   39         State-gov   77516  Bachelors             13   \n",
       "1   50  Self-emp-not-inc   83311  Bachelors             13   \n",
       "2   38           Private  215646    HS-grad              9   \n",
       "3   53           Private  234721       11th              7   \n",
       "4   28           Private  338409  Bachelors             13   \n",
       "\n",
       "       marital-status         occupation   relationship   race     sex  \\\n",
       "0       Never-married       Adm-clerical  Not-in-family  White    Male   \n",
       "1  Married-civ-spouse    Exec-managerial        Husband  White    Male   \n",
       "2            Divorced  Handlers-cleaners  Not-in-family  White    Male   \n",
       "3  Married-civ-spouse  Handlers-cleaners        Husband  Black    Male   \n",
       "4  Married-civ-spouse     Prof-specialty           Wife  Black  Female   \n",
       "\n",
       "   capital-gain  capital-loss  hours-per-week native-country annual_income  \n",
       "0          2174             0              40  United-States         <=50K  \n",
       "1             0             0              13  United-States         <=50K  \n",
       "2             0             0              40  United-States         <=50K  \n",
       "3             0             0              40  United-States         <=50K  \n",
       "4             0             0              40           Cuba         <=50K  "
      ]
     },
     "execution_count": 3,
     "metadata": {},
     "output_type": "execute_result"
    }
   ],
   "source": [
    "data = pd.read_csv(\"census-income .csv\",na_values='?',skipinitialspace=True)\n",
    "data.head()"
   ]
  },
  {
   "cell_type": "markdown",
   "metadata": {
    "id": "b6h9qFdAwTaq"
   },
   "source": [
    "### EDA"
   ]
  },
  {
   "cell_type": "code",
   "execution_count": 4,
   "metadata": {
    "colab": {
     "base_uri": "https://localhost:8080/"
    },
    "id": "xsV2t49A_bNa",
    "outputId": "7ca72619-5132-4e2c-c566-5c0d32668996"
   },
   "outputs": [
    {
     "data": {
      "text/plain": [
       "(32561, 15)"
      ]
     },
     "execution_count": 4,
     "metadata": {},
     "output_type": "execute_result"
    }
   ],
   "source": [
    "data.shape"
   ]
  },
  {
   "cell_type": "code",
   "execution_count": 5,
   "metadata": {
    "colab": {
     "base_uri": "https://localhost:8080/"
    },
    "id": "7fhGnkpB_bNa",
    "outputId": "995157e5-6c65-4383-cd77-ab8e775d3012"
   },
   "outputs": [
    {
     "name": "stdout",
     "output_type": "stream",
     "text": [
      "<class 'pandas.core.frame.DataFrame'>\n",
      "RangeIndex: 32561 entries, 0 to 32560\n",
      "Data columns (total 15 columns):\n",
      " #   Column          Non-Null Count  Dtype \n",
      "---  ------          --------------  ----- \n",
      " 0   age             32561 non-null  int64 \n",
      " 1   workclass       30725 non-null  object\n",
      " 2   fnlwgt          32561 non-null  int64 \n",
      " 3   education       32561 non-null  object\n",
      " 4   education-num   32561 non-null  int64 \n",
      " 5   marital-status  32561 non-null  object\n",
      " 6   occupation      30718 non-null  object\n",
      " 7   relationship    32561 non-null  object\n",
      " 8   race            32561 non-null  object\n",
      " 9   sex             32561 non-null  object\n",
      " 10  capital-gain    32561 non-null  int64 \n",
      " 11  capital-loss    32561 non-null  int64 \n",
      " 12  hours-per-week  32561 non-null  int64 \n",
      " 13  native-country  31978 non-null  object\n",
      " 14  annual_income   32561 non-null  object\n",
      "dtypes: int64(6), object(9)\n",
      "memory usage: 3.7+ MB\n"
     ]
    }
   ],
   "source": [
    "data.info()"
   ]
  },
  {
   "cell_type": "code",
   "execution_count": 7,
   "metadata": {
    "colab": {
     "base_uri": "https://localhost:8080/",
     "height": 300
    },
    "id": "QnfCYzix_wxA",
    "outputId": "12f68037-d31c-41df-d4c0-2444b4c4bdef"
   },
   "outputs": [
    {
     "data": {
      "text/html": [
       "<div>\n",
       "<style scoped>\n",
       "    .dataframe tbody tr th:only-of-type {\n",
       "        vertical-align: middle;\n",
       "    }\n",
       "\n",
       "    .dataframe tbody tr th {\n",
       "        vertical-align: top;\n",
       "    }\n",
       "\n",
       "    .dataframe thead th {\n",
       "        text-align: right;\n",
       "    }\n",
       "</style>\n",
       "<table border=\"1\" class=\"dataframe\">\n",
       "  <thead>\n",
       "    <tr style=\"text-align: right;\">\n",
       "      <th></th>\n",
       "      <th>age</th>\n",
       "      <th>fnlwgt</th>\n",
       "      <th>education-num</th>\n",
       "      <th>capital-gain</th>\n",
       "      <th>capital-loss</th>\n",
       "      <th>hours-per-week</th>\n",
       "    </tr>\n",
       "  </thead>\n",
       "  <tbody>\n",
       "    <tr>\n",
       "      <th>count</th>\n",
       "      <td>32561.000000</td>\n",
       "      <td>3.256100e+04</td>\n",
       "      <td>32561.000000</td>\n",
       "      <td>32561.000000</td>\n",
       "      <td>32561.000000</td>\n",
       "      <td>32561.000000</td>\n",
       "    </tr>\n",
       "    <tr>\n",
       "      <th>mean</th>\n",
       "      <td>38.581647</td>\n",
       "      <td>1.897784e+05</td>\n",
       "      <td>10.080679</td>\n",
       "      <td>1077.648844</td>\n",
       "      <td>87.303830</td>\n",
       "      <td>40.437456</td>\n",
       "    </tr>\n",
       "    <tr>\n",
       "      <th>std</th>\n",
       "      <td>13.640433</td>\n",
       "      <td>1.055500e+05</td>\n",
       "      <td>2.572720</td>\n",
       "      <td>7385.292085</td>\n",
       "      <td>402.960219</td>\n",
       "      <td>12.347429</td>\n",
       "    </tr>\n",
       "    <tr>\n",
       "      <th>min</th>\n",
       "      <td>17.000000</td>\n",
       "      <td>1.228500e+04</td>\n",
       "      <td>1.000000</td>\n",
       "      <td>0.000000</td>\n",
       "      <td>0.000000</td>\n",
       "      <td>1.000000</td>\n",
       "    </tr>\n",
       "    <tr>\n",
       "      <th>25%</th>\n",
       "      <td>28.000000</td>\n",
       "      <td>1.178270e+05</td>\n",
       "      <td>9.000000</td>\n",
       "      <td>0.000000</td>\n",
       "      <td>0.000000</td>\n",
       "      <td>40.000000</td>\n",
       "    </tr>\n",
       "    <tr>\n",
       "      <th>50%</th>\n",
       "      <td>37.000000</td>\n",
       "      <td>1.783560e+05</td>\n",
       "      <td>10.000000</td>\n",
       "      <td>0.000000</td>\n",
       "      <td>0.000000</td>\n",
       "      <td>40.000000</td>\n",
       "    </tr>\n",
       "    <tr>\n",
       "      <th>75%</th>\n",
       "      <td>48.000000</td>\n",
       "      <td>2.370510e+05</td>\n",
       "      <td>12.000000</td>\n",
       "      <td>0.000000</td>\n",
       "      <td>0.000000</td>\n",
       "      <td>45.000000</td>\n",
       "    </tr>\n",
       "    <tr>\n",
       "      <th>max</th>\n",
       "      <td>90.000000</td>\n",
       "      <td>1.484705e+06</td>\n",
       "      <td>16.000000</td>\n",
       "      <td>99999.000000</td>\n",
       "      <td>4356.000000</td>\n",
       "      <td>99.000000</td>\n",
       "    </tr>\n",
       "  </tbody>\n",
       "</table>\n",
       "</div>"
      ],
      "text/plain": [
       "                age        fnlwgt  education-num  capital-gain  capital-loss  \\\n",
       "count  32561.000000  3.256100e+04   32561.000000  32561.000000  32561.000000   \n",
       "mean      38.581647  1.897784e+05      10.080679   1077.648844     87.303830   \n",
       "std       13.640433  1.055500e+05       2.572720   7385.292085    402.960219   \n",
       "min       17.000000  1.228500e+04       1.000000      0.000000      0.000000   \n",
       "25%       28.000000  1.178270e+05       9.000000      0.000000      0.000000   \n",
       "50%       37.000000  1.783560e+05      10.000000      0.000000      0.000000   \n",
       "75%       48.000000  2.370510e+05      12.000000      0.000000      0.000000   \n",
       "max       90.000000  1.484705e+06      16.000000  99999.000000   4356.000000   \n",
       "\n",
       "       hours-per-week  \n",
       "count    32561.000000  \n",
       "mean        40.437456  \n",
       "std         12.347429  \n",
       "min          1.000000  \n",
       "25%         40.000000  \n",
       "50%         40.000000  \n",
       "75%         45.000000  \n",
       "max         99.000000  "
      ]
     },
     "execution_count": 7,
     "metadata": {},
     "output_type": "execute_result"
    }
   ],
   "source": [
    "data.describe()"
   ]
  },
  {
   "cell_type": "code",
   "execution_count": 8,
   "metadata": {
    "colab": {
     "base_uri": "https://localhost:8080/"
    },
    "id": "5FgaV-dt_yge",
    "outputId": "7e63cc99-7fea-41a9-857d-4cf5ce58cdc8"
   },
   "outputs": [
    {
     "data": {
      "text/plain": [
       "age                  0\n",
       "workclass         1836\n",
       "fnlwgt               0\n",
       "education            0\n",
       "education-num        0\n",
       "marital-status       0\n",
       "occupation        1843\n",
       "relationship         0\n",
       "race                 0\n",
       "sex                  0\n",
       "capital-gain         0\n",
       "capital-loss         0\n",
       "hours-per-week       0\n",
       "native-country     583\n",
       "annual_income        0\n",
       "dtype: int64"
      ]
     },
     "execution_count": 8,
     "metadata": {},
     "output_type": "execute_result"
    }
   ],
   "source": [
    "data.isnull().sum()"
   ]
  },
  {
   "cell_type": "code",
   "execution_count": 9,
   "metadata": {
    "id": "t6JfDaYL_z7-"
   },
   "outputs": [],
   "source": [
    "data = data.dropna()"
   ]
  },
  {
   "cell_type": "code",
   "execution_count": 10,
   "metadata": {
    "scrolled": true
   },
   "outputs": [
    {
     "data": {
      "text/plain": [
       "age               0\n",
       "workclass         0\n",
       "fnlwgt            0\n",
       "education         0\n",
       "education-num     0\n",
       "marital-status    0\n",
       "occupation        0\n",
       "relationship      0\n",
       "race              0\n",
       "sex               0\n",
       "capital-gain      0\n",
       "capital-loss      0\n",
       "hours-per-week    0\n",
       "native-country    0\n",
       "annual_income     0\n",
       "dtype: int64"
      ]
     },
     "execution_count": 10,
     "metadata": {},
     "output_type": "execute_result"
    }
   ],
   "source": [
    "data.isnull().sum()"
   ]
  },
  {
   "cell_type": "code",
   "execution_count": 13,
   "metadata": {},
   "outputs": [
    {
     "data": {
      "text/plain": [
       "<=50K    22654\n",
       ">50K      7508\n",
       "Name: annual_income, dtype: int64"
      ]
     },
     "execution_count": 13,
     "metadata": {},
     "output_type": "execute_result"
    }
   ],
   "source": [
    "data['annual_income'].value_counts()"
   ]
  },
  {
   "cell_type": "code",
   "execution_count": 14,
   "metadata": {
    "colab": {
     "base_uri": "https://localhost:8080/",
     "height": 337
    },
    "id": "ma_sKluE3Z26",
    "outputId": "d26af281-5313-4c82-9003-cf19ee4b229b"
   },
   "outputs": [
    {
     "data": {
      "text/html": [
       "<div>\n",
       "<style scoped>\n",
       "    .dataframe tbody tr th:only-of-type {\n",
       "        vertical-align: middle;\n",
       "    }\n",
       "\n",
       "    .dataframe tbody tr th {\n",
       "        vertical-align: top;\n",
       "    }\n",
       "\n",
       "    .dataframe thead th {\n",
       "        text-align: right;\n",
       "    }\n",
       "</style>\n",
       "<table border=\"1\" class=\"dataframe\">\n",
       "  <thead>\n",
       "    <tr style=\"text-align: right;\">\n",
       "      <th></th>\n",
       "      <th>age</th>\n",
       "      <th>workclass</th>\n",
       "      <th>fnlwgt</th>\n",
       "      <th>education</th>\n",
       "      <th>education-num</th>\n",
       "      <th>marital-status</th>\n",
       "      <th>occupation</th>\n",
       "      <th>relationship</th>\n",
       "      <th>race</th>\n",
       "      <th>sex</th>\n",
       "      <th>capital-gain</th>\n",
       "      <th>capital-loss</th>\n",
       "      <th>hours-per-week</th>\n",
       "      <th>native-country</th>\n",
       "      <th>annual_income</th>\n",
       "    </tr>\n",
       "  </thead>\n",
       "  <tbody>\n",
       "    <tr>\n",
       "      <th>0</th>\n",
       "      <td>39</td>\n",
       "      <td>State-gov</td>\n",
       "      <td>77516</td>\n",
       "      <td>Bachelors</td>\n",
       "      <td>13</td>\n",
       "      <td>Never-married</td>\n",
       "      <td>Adm-clerical</td>\n",
       "      <td>Not-in-family</td>\n",
       "      <td>White</td>\n",
       "      <td>Male</td>\n",
       "      <td>2174</td>\n",
       "      <td>0</td>\n",
       "      <td>40</td>\n",
       "      <td>United-States</td>\n",
       "      <td>0</td>\n",
       "    </tr>\n",
       "    <tr>\n",
       "      <th>1</th>\n",
       "      <td>50</td>\n",
       "      <td>Self-emp-not-inc</td>\n",
       "      <td>83311</td>\n",
       "      <td>Bachelors</td>\n",
       "      <td>13</td>\n",
       "      <td>Married-civ-spouse</td>\n",
       "      <td>Exec-managerial</td>\n",
       "      <td>Husband</td>\n",
       "      <td>White</td>\n",
       "      <td>Male</td>\n",
       "      <td>0</td>\n",
       "      <td>0</td>\n",
       "      <td>13</td>\n",
       "      <td>United-States</td>\n",
       "      <td>0</td>\n",
       "    </tr>\n",
       "    <tr>\n",
       "      <th>2</th>\n",
       "      <td>38</td>\n",
       "      <td>Private</td>\n",
       "      <td>215646</td>\n",
       "      <td>HS-grad</td>\n",
       "      <td>9</td>\n",
       "      <td>Divorced</td>\n",
       "      <td>Handlers-cleaners</td>\n",
       "      <td>Not-in-family</td>\n",
       "      <td>White</td>\n",
       "      <td>Male</td>\n",
       "      <td>0</td>\n",
       "      <td>0</td>\n",
       "      <td>40</td>\n",
       "      <td>United-States</td>\n",
       "      <td>0</td>\n",
       "    </tr>\n",
       "    <tr>\n",
       "      <th>3</th>\n",
       "      <td>53</td>\n",
       "      <td>Private</td>\n",
       "      <td>234721</td>\n",
       "      <td>11th</td>\n",
       "      <td>7</td>\n",
       "      <td>Married-civ-spouse</td>\n",
       "      <td>Handlers-cleaners</td>\n",
       "      <td>Husband</td>\n",
       "      <td>Black</td>\n",
       "      <td>Male</td>\n",
       "      <td>0</td>\n",
       "      <td>0</td>\n",
       "      <td>40</td>\n",
       "      <td>United-States</td>\n",
       "      <td>0</td>\n",
       "    </tr>\n",
       "    <tr>\n",
       "      <th>4</th>\n",
       "      <td>28</td>\n",
       "      <td>Private</td>\n",
       "      <td>338409</td>\n",
       "      <td>Bachelors</td>\n",
       "      <td>13</td>\n",
       "      <td>Married-civ-spouse</td>\n",
       "      <td>Prof-specialty</td>\n",
       "      <td>Wife</td>\n",
       "      <td>Black</td>\n",
       "      <td>Female</td>\n",
       "      <td>0</td>\n",
       "      <td>0</td>\n",
       "      <td>40</td>\n",
       "      <td>Cuba</td>\n",
       "      <td>0</td>\n",
       "    </tr>\n",
       "  </tbody>\n",
       "</table>\n",
       "</div>"
      ],
      "text/plain": [
       "   age         workclass  fnlwgt  education  education-num  \\\n",
       "0   39         State-gov   77516  Bachelors             13   \n",
       "1   50  Self-emp-not-inc   83311  Bachelors             13   \n",
       "2   38           Private  215646    HS-grad              9   \n",
       "3   53           Private  234721       11th              7   \n",
       "4   28           Private  338409  Bachelors             13   \n",
       "\n",
       "       marital-status         occupation   relationship   race     sex  \\\n",
       "0       Never-married       Adm-clerical  Not-in-family  White    Male   \n",
       "1  Married-civ-spouse    Exec-managerial        Husband  White    Male   \n",
       "2            Divorced  Handlers-cleaners  Not-in-family  White    Male   \n",
       "3  Married-civ-spouse  Handlers-cleaners        Husband  Black    Male   \n",
       "4  Married-civ-spouse     Prof-specialty           Wife  Black  Female   \n",
       "\n",
       "   capital-gain  capital-loss  hours-per-week native-country  annual_income  \n",
       "0          2174             0              40  United-States              0  \n",
       "1             0             0              13  United-States              0  \n",
       "2             0             0              40  United-States              0  \n",
       "3             0             0              40  United-States              0  \n",
       "4             0             0              40           Cuba              0  "
      ]
     },
     "execution_count": 14,
     "metadata": {},
     "output_type": "execute_result"
    }
   ],
   "source": [
    "data['annual_income']=data['annual_income'].map({'<=50K': 0, '>50K': 1})\n",
    "data.head()"
   ]
  },
  {
   "cell_type": "markdown",
   "metadata": {
    "id": "nxqt3S3u_bNc"
   },
   "source": [
    "# 4. Summary"
   ]
  },
  {
   "cell_type": "markdown",
   "metadata": {
    "id": "pLCl-pQI_bNc"
   },
   "source": [
    "## 4.1 Summary statistics for numeric attribute"
   ]
  },
  {
   "cell_type": "code",
   "execution_count": null,
   "metadata": {
    "colab": {
     "base_uri": "https://localhost:8080/",
     "height": 300
    },
    "id": "D8KlH-DG_bNc",
    "outputId": "c388462d-9546-4921-ca3f-e2fab5d37381"
   },
   "outputs": [],
   "source": [
    "data_num = data.drop([\"educational-num\",\"income\"], axis=1)\n",
    "data_num.describe()"
   ]
  },
  {
   "cell_type": "markdown",
   "metadata": {
    "id": "N5WXAHLs_bNc"
   },
   "source": [
    "Summary of attributes explain following things:\n",
    ">  **For Age :**\n",
    "1.  The mean value is 38 i.e. on an average the value of age attribute is 38.\n",
    "2.  Age is having the standerd deviation 13.71 which indicates the deviation of an observation from the mean.    \n",
    "3.  The value of Age attribute varies from 17 to 90.\n",
    "4.  The 1st quartile is 28 i.e. 25% of the observations lies below 28.\n",
    "5.  3rd quartile is 48 which indicates that in 75% of the observations the value of age is less than 48.\n",
    "6.  The difference between 1st quartile and the minimum is lesser than the difference between 3rd quartile and the maximum which is showing that the data is more dispersed after the value 48.\n",
    "7.  The difference between mean & median is not significantly high but the difference between 3rd quartile & maximum made the distribution right skewed.\n",
    "\n",
    "\n",
    ">  **For fnlwgt :**\n",
    "1.  This is the sampling weight corresponding to the observations.\n",
    "2.  finalweight seems to be rightly skewed since there is very large distance between median & maximum value as compared to minimum & median value.\n",
    "\n",
    "\n",
    "> **For capital-gain :**\n",
    "1.  For capital-gain, the mean is 1079.06 and median is 0, which indicates that the distribution is highly right skewed.\n",
    "2.  From the qurtiles it is clearly visible that 75% observations are having capital gain zero.\n",
    "3.  capital-gain is concentrated on the one particular value i.e. zero and other are spread after 3rd quartile which results as the large standard deviation(7452.01).\n",
    "4.  capital-gain shows that either a person has no gain or has gain of very large amount(10k or 99k).\n",
    " \n",
    "\n",
    "> **For capital-loss :**\n",
    "1.  This attribute is similar to the capital-gain i.e. most of the values are centered on 0(this can be told using the summary statistic as minimum is 0 and values lie under 75 percentile is also zero.\n",
    "2.  Mean is 87 but median is 0(i.e. mean is greater than median this tells us that it is right skewed distribution).\n",
    "\n",
    "\n",
    "> **For hours-per-week :**\n",
    "1.  This attribute means number of working hours spend by an individual in a week.\n",
    "2.  In this data the hours per week atrribute varies within the range of 1 to 99.\n",
    "3.  75 percentage of the people spend 45 or less working hours per week.\n",
    "4.  The IQR is very less i.e. [40-45] which indicates that 50% of the observations are concentrated between 40 & 45.\n",
    "5.  Observations are very sparse below 25th percentile and after 75th percentile.\n",
    "6.  Using quartiles we can say that data is approximately symmetric.\n",
    "4.  Minimum is 1 hour per week & maximum value is 99 hours per week means person spending 99 working hours per week are very rare events. We will later analyze that which workclass they belong."
   ]
  },
  {
   "cell_type": "markdown",
   "metadata": {
    "id": "oKjcF4yD_bNc"
   },
   "source": [
    "## 4.2 Summary and count for categorical attribute"
   ]
  },
  {
   "cell_type": "code",
   "execution_count": null,
   "metadata": {
    "colab": {
     "base_uri": "https://localhost:8080/",
     "height": 175
    },
    "id": "J5jrrf8__bNd",
    "outputId": "8bf8cf45-0aa4-4405-c2bc-864c4aca9702"
   },
   "outputs": [],
   "source": [
    "data.describe(include=[\"O\"])"
   ]
  },
  {
   "cell_type": "markdown",
   "metadata": {
    "id": "NkG9ySmG_bNd"
   },
   "source": [
    "* Native-country has maximum number of unique categories i.e. 41 categories.\n",
    "* But the native-country is highly biased toward the US which has frequency of 44689 out of total 48842(nearly 91%).\n",
    "* Occupation has  more or less uniform distribution of categories as comparerd to the other attributes.\n",
    "* Race is also biased to the white race category(41762) with 85.5%.\n",
    "* The top category in workclass is Private having frequency(36705) and percentage(75.5%)."
   ]
  },
  {
   "cell_type": "markdown",
   "metadata": {
    "id": "IEcZX-Vj_bNd"
   },
   "source": [
    "# 5. EDA"
   ]
  },
  {
   "cell_type": "markdown",
   "metadata": {
    "id": "xEHSYceS_bNd"
   },
   "source": [
    "## 5.1.Univariate analysis"
   ]
  },
  {
   "cell_type": "markdown",
   "metadata": {
    "id": "-SbTLz-C_bNd"
   },
   "source": [
    "## 5.1.1 Age"
   ]
  },
  {
   "cell_type": "markdown",
   "metadata": {
    "id": "_GpLKALj_bNe"
   },
   "source": [
    "### **i.\tDistribution**"
   ]
  },
  {
   "cell_type": "code",
   "execution_count": null,
   "metadata": {
    "colab": {
     "base_uri": "https://localhost:8080/",
     "height": 483
    },
    "id": "zsfWbGpS_bNe",
    "outputId": "1a0dc66c-4638-461d-992e-ab3517739cd8"
   },
   "outputs": [],
   "source": [
    "data['age'].hist(figsize=(8,8))\n",
    "plt.show()"
   ]
  },
  {
   "cell_type": "code",
   "execution_count": null,
   "metadata": {
    "colab": {
     "base_uri": "https://localhost:8080/"
    },
    "id": "HYJiAcsO_bNe",
    "outputId": "e4bdff79-8aa0-4576-b824-1e13d034a4c5"
   },
   "outputs": [],
   "source": [
    "data[data[\"age\"]>70].shape"
   ]
  },
  {
   "cell_type": "markdown",
   "metadata": {
    "id": "UFbECbEE_bNe"
   },
   "source": [
    "### **ii.\tDescription about the distribution**"
   ]
  },
  {
   "cell_type": "markdown",
   "metadata": {
    "id": "nivXUPSn_bNe"
   },
   "source": [
    "The above histogram shows that :\n",
    "* \"age\" attribute is not symmetric.\n",
    "*  it is right-skewed(But this is totally fine as younger adult earn wages not the older ones)\n",
    "*  Minimum and Maximum age of the people is 17 and 90 respectively.\n",
    "*  This dataset has fewer observations(868) of people's age after certain age i.e. 70 years."
   ]
  },
  {
   "cell_type": "markdown",
   "metadata": {
    "id": "F-FNxhE6_bNe"
   },
   "source": [
    "## 5.1.2 Hours per week"
   ]
  },
  {
   "cell_type": "markdown",
   "metadata": {
    "id": "NsFZQZad_bNf"
   },
   "source": [
    "### **i.\tDistribution**"
   ]
  },
  {
   "cell_type": "code",
   "execution_count": null,
   "metadata": {
    "colab": {
     "base_uri": "https://localhost:8080/",
     "height": 483
    },
    "id": "NuF_kzTh_bNf",
    "outputId": "962b16d9-751e-456e-f228-b8b7f85872a8"
   },
   "outputs": [],
   "source": [
    "data['hours-per-week'].hist(figsize=(8,8))\n",
    "plt.show()"
   ]
  },
  {
   "cell_type": "markdown",
   "metadata": {
    "id": "uYOVE35Z_bNf"
   },
   "source": [
    "### **ii.\tDescription about the distribution**"
   ]
  },
  {
   "cell_type": "markdown",
   "metadata": {
    "id": "APfqh5Ku_bNf"
   },
   "source": [
    "This histogram of \"hours-per-week\" shows that:\n",
    "* In this data the hours per week atrribute varies within the range of 1 to 99.\n",
    "* Most people work 30-40 hours per week, they are roughly 27,000 people.\n",
    "* There are also few people who works 80-100 hours per week and some less than 20 which is unusual. \n",
    "*  75 percentage of the people spend 45 or less working hours per week."
   ]
  },
  {
   "cell_type": "markdown",
   "metadata": {
    "id": "ppCXfSDw_bNf"
   },
   "source": [
    "## 5.1.3 fnlwgt"
   ]
  },
  {
   "cell_type": "markdown",
   "metadata": {
    "id": "FA6nKHzt_bNf"
   },
   "source": [
    "**fnlwght** variable may stand for a weight of an observation."
   ]
  },
  {
   "cell_type": "markdown",
   "metadata": {
    "id": "p-c89eqN_bNg"
   },
   "source": [
    "### **i.\tDistribution**"
   ]
  },
  {
   "cell_type": "code",
   "execution_count": null,
   "metadata": {
    "colab": {
     "base_uri": "https://localhost:8080/",
     "height": 496
    },
    "id": "BcVjK1aM_bNg",
    "outputId": "3fc39b41-0f51-423b-e6ae-ba9983d11cbb"
   },
   "outputs": [],
   "source": [
    "data['fnlwgt'].hist(figsize=(8,8))\n",
    "plt.show()"
   ]
  },
  {
   "cell_type": "markdown",
   "metadata": {
    "id": "v14UNcbD_bNg"
   },
   "source": [
    "### **ii.\tDescription about distribution**"
   ]
  },
  {
   "cell_type": "markdown",
   "metadata": {
    "id": "KJXNs15q_bNg"
   },
   "source": [
    "The above histogram shows that :\n",
    "* This is the sampling weight corresponding to the observations.\n",
    "* The distribution of finalweight seems to be rightly skewed since mean(189664.1) is greater than median(178144.5)."
   ]
  },
  {
   "cell_type": "markdown",
   "metadata": {
    "id": "owG_JJr7_bNg"
   },
   "source": [
    "## 5.1.4 capital-gain"
   ]
  },
  {
   "cell_type": "markdown",
   "metadata": {
    "id": "MvjUEqo__bNg"
   },
   "source": [
    "### **i.\tDistribution**"
   ]
  },
  {
   "cell_type": "code",
   "execution_count": null,
   "metadata": {
    "colab": {
     "base_uri": "https://localhost:8080/",
     "height": 483
    },
    "id": "RM0g3Ktu_bNg",
    "outputId": "251df719-c4e3-4672-bbb5-2cab65743851"
   },
   "outputs": [],
   "source": [
    "data[\"capital-gain\"].hist(figsize=(8,8))\n",
    "plt.show()"
   ]
  },
  {
   "cell_type": "markdown",
   "metadata": {
    "id": "nlWlfrsL_bNh"
   },
   "source": [
    "### **ii.\tDescription about distribution**"
   ]
  },
  {
   "cell_type": "markdown",
   "metadata": {
    "id": "b1ND-7UF_bNh"
   },
   "source": [
    "\n",
    "* This histogram shows that most of the \"capital-gain\" values are centered on 0 and few on 10k and 99k.\n",
    "*  capital-gain is concentrated on the one particular value and other are spread with  large standard deviation(7452.01).\n",
    "*  capital-gain shows that either a person has no gain or has gain of very large amount(10k or 99k)."
   ]
  },
  {
   "cell_type": "markdown",
   "metadata": {
    "id": "xDj943em_bNh"
   },
   "source": [
    "## 5.1.5 capital-loss"
   ]
  },
  {
   "cell_type": "markdown",
   "metadata": {
    "id": "14YlTp6h_bNh"
   },
   "source": [
    "### **i.\tDistribution**"
   ]
  },
  {
   "cell_type": "code",
   "execution_count": null,
   "metadata": {
    "colab": {
     "base_uri": "https://localhost:8080/",
     "height": 483
    },
    "id": "dM7cBuEO_bNh",
    "outputId": "54cc6ed0-2d20-4816-8679-8cf21f8281be"
   },
   "outputs": [],
   "source": [
    "data[\"capital-loss\"].hist(figsize=(8,8))\n",
    "plt.show()"
   ]
  },
  {
   "cell_type": "code",
   "execution_count": null,
   "metadata": {
    "colab": {
     "base_uri": "https://localhost:8080/"
    },
    "id": "313kEni7_bNi",
    "outputId": "82311c3b-8741-4802-9b46-0d254292a08a"
   },
   "outputs": [],
   "source": [
    "data[data[\"capital-loss\"]>0].shape"
   ]
  },
  {
   "cell_type": "markdown",
   "metadata": {
    "id": "xlk3oizY_bNi"
   },
   "source": [
    "### **ii.\tDescription about distribution**"
   ]
  },
  {
   "cell_type": "markdown",
   "metadata": {
    "id": "AYm5zqW3_bNi"
   },
   "source": [
    "* This histogram shows that most of the \"capital-loss\" values are centered on 0 and only few are non zero(2282).\n",
    "* This attribute is similar to the capital-gain i.e. most of the values are centered on 0(nearly 43000 of them)"
   ]
  },
  {
   "cell_type": "markdown",
   "metadata": {
    "id": "x4k__iLY_bNi"
   },
   "source": [
    "### Relation between capital gain and capital loss"
   ]
  },
  {
   "cell_type": "markdown",
   "metadata": {
    "id": "K89qTgGx_bNi"
   },
   "source": [
    "#### Let's explore more about capital loss and capital gain."
   ]
  },
  {
   "cell_type": "code",
   "execution_count": null,
   "metadata": {
    "colab": {
     "base_uri": "https://localhost:8080/",
     "height": 369
    },
    "id": "hKhU9aGS_bNi",
    "outputId": "b1df27f4-dc78-457e-f4af-2b71dac874b9"
   },
   "outputs": [],
   "source": [
    "sns.relplot('capital-gain','capital-loss', data= data)\n",
    "plt.xlabel(\"capital gain\")\n",
    "plt.ylabel(\"capital loss\")\n",
    "plt.show()"
   ]
  },
  {
   "cell_type": "markdown",
   "metadata": {
    "id": "jh0UKi83_bNi"
   },
   "source": [
    "Possibilities for capital gain and capital loss\n",
    "\n",
    "*     Both capital gain and capital loss can be zero\n",
    "*     If capital.gain is zero there is possibility of capital loss being high or above zero.\n",
    "*     If capital loss is zero there is possibility of capital.gain being high or above zero.\n",
    "\n"
   ]
  },
  {
   "cell_type": "markdown",
   "metadata": {
    "id": "22_ZYkM__bNj"
   },
   "source": [
    "**With the help of this, we can do one modification later(It could be combine these together i.e. capital-change = [capital-gain - capital-loss])**"
   ]
  },
  {
   "cell_type": "markdown",
   "metadata": {
    "id": "1wG6hDdb_bNj"
   },
   "source": [
    "## 5.1.6 Workclass"
   ]
  },
  {
   "cell_type": "markdown",
   "metadata": {
    "id": "U8hwypRI_bNj"
   },
   "source": [
    "### **i.\tDistribution**"
   ]
  },
  {
   "cell_type": "code",
   "execution_count": null,
   "metadata": {
    "colab": {
     "base_uri": "https://localhost:8080/",
     "height": 497
    },
    "id": "B07xVrVO_bNj",
    "outputId": "7c5abecf-5c17-4cb1-f6e9-504728a6a525"
   },
   "outputs": [],
   "source": [
    "plt.figure(figsize=(12,8))\n",
    "\n",
    "total = float(len(data[\"income\"]) )\n",
    "\n",
    "ax = sns.countplot(x=\"workclass\", data=data)\n",
    "for p in ax.patches:\n",
    "    height = p.get_height()\n",
    "    ax.text(p.get_x()+p.get_width()/2.,\n",
    "            height + 3,\n",
    "            '{:1.2f}'.format((height/total)*100),\n",
    "            ha=\"center\") \n",
    "plt.show()"
   ]
  },
  {
   "cell_type": "markdown",
   "metadata": {
    "id": "V1SC-ySR_bNj"
   },
   "source": [
    "### **ii.\tDescription about distribution**"
   ]
  },
  {
   "cell_type": "markdown",
   "metadata": {
    "id": "xkQdWvVw_bNj"
   },
   "source": [
    "Summary  distribution shows that:\n",
    "* There are 8 unique categories present in the worclass attribute.\n",
    "* Most of them belong to the *private* workclass(36705) i.e. 75.15%.\n",
    "* *without-pay* and *never-worked* has minimum count in workclass attribute(less than 1%).\n",
    "* There is huge imbalance in the categories of workclass attribute."
   ]
  },
  {
   "cell_type": "markdown",
   "metadata": {
    "id": "NOoBcEPF_bNj"
   },
   "source": [
    "## 5.1.7 Education"
   ]
  },
  {
   "cell_type": "markdown",
   "metadata": {
    "id": "uiYYF3tT_bNj"
   },
   "source": [
    "### **i. Distribution**"
   ]
  },
  {
   "cell_type": "code",
   "execution_count": null,
   "metadata": {
    "colab": {
     "base_uri": "https://localhost:8080/",
     "height": 497
    },
    "id": "ZewV0WOB_bNk",
    "outputId": "18076cf5-c181-4548-f6e7-9bfe9c326b0f"
   },
   "outputs": [],
   "source": [
    "plt.figure(figsize=(20,8))\n",
    "total = float(len(data[\"income\"]) )\n",
    "\n",
    "ax = sns.countplot(x=\"education\", data=data)\n",
    "for p in ax.patches:\n",
    "    height = p.get_height()\n",
    "    ax.text(p.get_x()+p.get_width()/2.,\n",
    "            height + 3,\n",
    "            '{:1.2f}'.format((height/total)*100),\n",
    "            ha=\"center\") \n",
    "plt.show()"
   ]
  },
  {
   "cell_type": "markdown",
   "metadata": {
    "id": "AM2Pe13g_bNk"
   },
   "source": [
    "### **ii. Description about distribution**"
   ]
  },
  {
   "cell_type": "markdown",
   "metadata": {
    "id": "DXVNfBiU_bNk"
   },
   "source": [
    "\n",
    "* There are 16 unique categories present in the **education** attribute.\n",
    "* *Hs-grad* has 32.32% of all the education attribute.\n",
    "* *HS-grad* (15784) has the maximum number of observations followed by *some-college*(10878) and *Bachelors*(8025).\n",
    "* *Pre-school* has minimum samples i.e. 83.\n"
   ]
  },
  {
   "cell_type": "markdown",
   "metadata": {
    "id": "Q3_M6i1d_bNk"
   },
   "source": [
    "## 5.1.8 marital-status"
   ]
  },
  {
   "cell_type": "markdown",
   "metadata": {
    "id": "EohqbWam_bNk"
   },
   "source": [
    "### **i. Distribution**"
   ]
  },
  {
   "cell_type": "code",
   "execution_count": null,
   "metadata": {
    "colab": {
     "base_uri": "https://localhost:8080/",
     "height": 497
    },
    "id": "hqZVHLTS_bNk",
    "outputId": "67b1f7ba-6a2a-420c-c1c4-1fa69ab50006"
   },
   "outputs": [],
   "source": [
    "plt.figure(figsize=(15,8))\n",
    "total = float(len(data) )\n",
    "\n",
    "ax = sns.countplot(x=\"marital-status\", data=data)\n",
    "for p in ax.patches:\n",
    "    height = p.get_height()\n",
    "    ax.text(p.get_x()+p.get_width()/2.,\n",
    "            height + 3,\n",
    "            '{:1.2f}'.format((height/total)*100),\n",
    "            ha=\"center\") \n",
    "plt.show()"
   ]
  },
  {
   "cell_type": "markdown",
   "metadata": {
    "id": "eXtl7XGg_bNl"
   },
   "source": [
    "### **ii. Description about distribution**"
   ]
  },
  {
   "cell_type": "markdown",
   "metadata": {
    "id": "IY_qv8qt_bNl"
   },
   "source": [
    "\n",
    "* This *marital-status* attribute has 7 unique categories.\n",
    "* Two of them are dominate over other categories(these are *Never-married*(33%) and *married-civ-spouse*(45.82%).\n",
    "* *Married-civ-spouse* has maximum number of samples.\n",
    "* *Married-AF-spouse* has minimum number of obs.\n"
   ]
  },
  {
   "cell_type": "markdown",
   "metadata": {
    "id": "lbev3wja_bNl"
   },
   "source": [
    "## 5.1.9 Occupation"
   ]
  },
  {
   "cell_type": "markdown",
   "metadata": {
    "id": "z6WUVG4A_bNl"
   },
   "source": [
    "### **i. Distribution**"
   ]
  },
  {
   "cell_type": "code",
   "execution_count": null,
   "metadata": {
    "colab": {
     "base_uri": "https://localhost:8080/",
     "height": 484
    },
    "id": "bdYXx0dE_bNl",
    "outputId": "a1f25dc7-6e1a-46d0-d253-213f4a7fcc8c"
   },
   "outputs": [],
   "source": [
    "plt.figure(figsize=(25,8))\n",
    "total = float(len(data) )\n",
    "\n",
    "ax = sns.countplot(x=\"occupation\", data=data)\n",
    "for p in ax.patches:\n",
    "    height = p.get_height()\n",
    "    ax.text(p.get_x()+p.get_width()/2.,\n",
    "            height + 3,\n",
    "            '{:1.2f}'.format((height/total)*100),\n",
    "            ha=\"center\") \n",
    "plt.show()"
   ]
  },
  {
   "cell_type": "markdown",
   "metadata": {
    "id": "c6R4j1HE_bNl"
   },
   "source": [
    "### **ii. Description about distribution**"
   ]
  },
  {
   "cell_type": "markdown",
   "metadata": {
    "id": "JDr0WfPy_bNl"
   },
   "source": [
    "\n",
    "* There are 14 unique categories present in the **occupation** attribute.\n",
    "* *Prof-specialty* has the maximum count(8981) but *Craft-repair*, *Exec-managerial* and *Adm-clerical Sales* has comparable number of observations.\n",
    "* *Armed-Forces * has minimum samples in the **occupation** attribute."
   ]
  },
  {
   "cell_type": "markdown",
   "metadata": {
    "id": "mo_f1Tqm_bNm"
   },
   "source": [
    "## 5.1.10 Relationship"
   ]
  },
  {
   "cell_type": "markdown",
   "metadata": {
    "id": "q2xoTxUc_bNm"
   },
   "source": [
    "### **i. Distribution**"
   ]
  },
  {
   "cell_type": "code",
   "execution_count": null,
   "metadata": {
    "colab": {
     "base_uri": "https://localhost:8080/",
     "height": 497
    },
    "id": "Q84LmisF_bNm",
    "outputId": "dde640d3-97ea-4932-932e-6fc70ea51481"
   },
   "outputs": [],
   "source": [
    "plt.figure(figsize=(15,8))\n",
    "total = float(len(data) )\n",
    "\n",
    "ax = sns.countplot(x=\"relationship\", data=data)\n",
    "for p in ax.patches:\n",
    "    height = p.get_height()\n",
    "    ax.text(p.get_x()+p.get_width()/2.,\n",
    "            height + 3,\n",
    "            '{:1.2f}'.format((height/total)*100),\n",
    "            ha=\"center\") \n",
    "plt.show()"
   ]
  },
  {
   "cell_type": "markdown",
   "metadata": {
    "id": "DjoKLBpo_bNm"
   },
   "source": [
    "### **ii. Description about distribution**"
   ]
  },
  {
   "cell_type": "markdown",
   "metadata": {
    "id": "uMU0uk4T_bNm"
   },
   "source": [
    "\n",
    "* There are 6 unique categories in the **relationship** attribute.\n",
    "* *Husband* has maximum percentage (40.37%) among all categories followed by *not-in-family*(25.76%)"
   ]
  },
  {
   "cell_type": "markdown",
   "metadata": {
    "id": "r6XYRRt6_bNm"
   },
   "source": [
    "## 5.1.11 Race"
   ]
  },
  {
   "cell_type": "markdown",
   "metadata": {
    "id": "MZW-BfyP_bNn"
   },
   "source": [
    "### **i. Distribution**"
   ]
  },
  {
   "cell_type": "code",
   "execution_count": null,
   "metadata": {
    "colab": {
     "base_uri": "https://localhost:8080/",
     "height": 497
    },
    "id": "2RlOIuma_bNn",
    "outputId": "5153b053-e40b-4d2c-db7a-51afc139222e"
   },
   "outputs": [],
   "source": [
    "plt.figure(figsize=(15,8))\n",
    "total = float(len(data) )\n",
    "\n",
    "ax = sns.countplot(x=\"race\", data=data)\n",
    "for p in ax.patches:\n",
    "    height = p.get_height()\n",
    "    ax.text(p.get_x()+p.get_width()/2.,\n",
    "            height + 3,\n",
    "            '{:1.2f}'.format((height/total)*100),\n",
    "            ha=\"center\") \n",
    "plt.show()"
   ]
  },
  {
   "cell_type": "markdown",
   "metadata": {
    "id": "o3u3PPWl_bNn"
   },
   "source": [
    "### **ii. Description about distribution**"
   ]
  },
  {
   "cell_type": "markdown",
   "metadata": {
    "id": "B88SN2tC_bNn"
   },
   "source": [
    "This distribution explains that:\n",
    "* There are 5 unique categories in the **race** attribute.\n",
    "* Most of them are \"white\" which is roughly 85.50%.\n",
    "* This dataset is totally bias toward the \"white\" race.\n",
    "* Second major race in the dataset is the \"black\" with just 9.59%."
   ]
  },
  {
   "cell_type": "markdown",
   "metadata": {
    "id": "4djsDXso_bNn"
   },
   "source": [
    "## 5.1.12 Gender"
   ]
  },
  {
   "cell_type": "markdown",
   "metadata": {
    "id": "wWyo-Z3Q_bNn"
   },
   "source": [
    "### **i. Distribution**"
   ]
  },
  {
   "cell_type": "code",
   "execution_count": null,
   "metadata": {
    "colab": {
     "base_uri": "https://localhost:8080/",
     "height": 497
    },
    "id": "UUDT7V5A_bNn",
    "outputId": "0e416cc5-0e52-411b-c41b-595a61c3afb2"
   },
   "outputs": [],
   "source": [
    "plt.figure(figsize=(8,8))\n",
    "total = float(len(data) )\n",
    "\n",
    "ax = sns.countplot(x=\"gender\", data=data)\n",
    "for p in ax.patches:\n",
    "    height = p.get_height()\n",
    "    ax.text(p.get_x()+p.get_width()/2.,\n",
    "            height + 3,\n",
    "            '{:1.2f}'.format((height/total)*100),\n",
    "            ha=\"center\") \n",
    "plt.show()"
   ]
  },
  {
   "cell_type": "markdown",
   "metadata": {
    "id": "bH6VtMwr_bNo"
   },
   "source": [
    "### **ii. Description about distribution**"
   ]
  },
  {
   "cell_type": "markdown",
   "metadata": {
    "id": "IAIRnNwb_bNo"
   },
   "source": [
    "This distribution explains that:\n",
    "* Gender has 2 unique categories(male and female).\n",
    "* But the frequency of *male*(32650) is higher than the *female*(16192) categories.\n",
    "* Distribution shows that this dataset is skewed toward the male with nearly 67%."
   ]
  },
  {
   "cell_type": "markdown",
   "metadata": {
    "id": "jzt-ubI8_bNo"
   },
   "source": [
    "## 5.1.13 Native-country"
   ]
  },
  {
   "cell_type": "code",
   "execution_count": null,
   "metadata": {
    "colab": {
     "base_uri": "https://localhost:8080/",
     "height": 497
    },
    "id": "fZxwaRPK_bNo",
    "outputId": "ec479ca6-37d7-4a83-8b3d-68e6edf803c5"
   },
   "outputs": [],
   "source": [
    "plt.figure(figsize=(18,8))\n",
    "total = float(len(data) )\n",
    "\n",
    "ax = sns.countplot(y=\"native-country\", data=data)\n",
    "for p in ax.patches:\n",
    "    height = p.get_height()\n",
    "    ax.text(p.get_x()+p.get_width()/2.,\n",
    "            height + 3,\n",
    "            '{:1.2f}'.format((height/total)*100),\n",
    "            ha=\"center\") \n",
    "plt.show()"
   ]
  },
  {
   "cell_type": "markdown",
   "metadata": {
    "id": "9B6WiFQp_bNo"
   },
   "source": [
    "This distribution explains that:\n",
    "* This dataset is taken from the US.\n",
    "* As 91.5% of them have native country America and others are immigrants."
   ]
  },
  {
   "cell_type": "markdown",
   "metadata": {
    "id": "DeLEO8sI_bNo"
   },
   "source": [
    "## 5.1.14 Income(Target variable)"
   ]
  },
  {
   "cell_type": "markdown",
   "metadata": {
    "id": "hGgaXvlU_bNo"
   },
   "source": [
    "### **i. Distribution**"
   ]
  },
  {
   "cell_type": "code",
   "execution_count": null,
   "metadata": {
    "colab": {
     "base_uri": "https://localhost:8080/",
     "height": 442
    },
    "id": "v-CBxqKa_bNp",
    "outputId": "f838b282-a73f-4b2f-ad76-b2d92665b278"
   },
   "outputs": [],
   "source": [
    "plt.figure(figsize=(7,7))\n",
    "total = float(len(data) )\n",
    "\n",
    "ax = sns.countplot(x=\"income\", data=data)\n",
    "for p in ax.patches:\n",
    "    height = p.get_height()\n",
    "    ax.text(p.get_x()+p.get_width()/2.,\n",
    "            height + 3,\n",
    "            '{:1.2f}'.format((height/total)*100),\n",
    "            ha=\"center\") \n",
    "plt.show()"
   ]
  },
  {
   "cell_type": "markdown",
   "metadata": {
    "id": "ySF9f47L_bNp"
   },
   "source": [
    "### **ii. Description about distribution**"
   ]
  },
  {
   "cell_type": "markdown",
   "metadata": {
    "id": "kvAzEuv2_bNp"
   },
   "source": [
    "This distibution says that:\n",
    "* **This dataset not balance , i.e. 23.93%of them are belong to income group 1 (who earns more than 50k) and 76% fall under the income group 0 (who earns less than 50k).**"
   ]
  },
  {
   "cell_type": "markdown",
   "metadata": {
    "id": "3bc1f1p__bNp"
   },
   "source": [
    "# 5.2.Bivariate analysis"
   ]
  },
  {
   "cell_type": "markdown",
   "metadata": {
    "id": "w69FbO-K_bNp"
   },
   "source": [
    "## 5.2.1 Age"
   ]
  },
  {
   "cell_type": "markdown",
   "metadata": {
    "id": "yuceWtjj_bNp"
   },
   "source": [
    "### i. **Boxplot (Relationship with income)**"
   ]
  },
  {
   "cell_type": "code",
   "execution_count": 6,
   "metadata": {
    "colab": {
     "base_uri": "https://localhost:8080/",
     "height": 606
    },
    "id": "xVSFfz_c_bNp",
    "outputId": "3d197819-3470-4c8c-8629-a819c944503a"
   },
   "outputs": [
    {
     "ename": "ValueError",
     "evalue": "Could not interpret input 'income'",
     "output_type": "error",
     "traceback": [
      "\u001b[1;31m---------------------------------------------------------------------------\u001b[0m",
      "\u001b[1;31mValueError\u001b[0m                                Traceback (most recent call last)",
      "Input \u001b[1;32mIn [6]\u001b[0m, in \u001b[0;36m<cell line: 2>\u001b[1;34m()\u001b[0m\n\u001b[0;32m      1\u001b[0m fig \u001b[38;5;241m=\u001b[39m plt\u001b[38;5;241m.\u001b[39mfigure(figsize\u001b[38;5;241m=\u001b[39m(\u001b[38;5;241m10\u001b[39m,\u001b[38;5;241m10\u001b[39m)) \n\u001b[1;32m----> 2\u001b[0m \u001b[43msns\u001b[49m\u001b[38;5;241;43m.\u001b[39;49m\u001b[43mboxplot\u001b[49m\u001b[43m(\u001b[49m\u001b[43mx\u001b[49m\u001b[38;5;241;43m=\u001b[39;49m\u001b[38;5;124;43m\"\u001b[39;49m\u001b[38;5;124;43mincome\u001b[39;49m\u001b[38;5;124;43m\"\u001b[39;49m\u001b[43m,\u001b[49m\u001b[43m \u001b[49m\u001b[43my\u001b[49m\u001b[38;5;241;43m=\u001b[39;49m\u001b[38;5;124;43m\"\u001b[39;49m\u001b[38;5;124;43mage\u001b[39;49m\u001b[38;5;124;43m\"\u001b[39;49m\u001b[43m,\u001b[49m\u001b[43m \u001b[49m\u001b[43mdata\u001b[49m\u001b[38;5;241;43m=\u001b[39;49m\u001b[43mdata\u001b[49m\u001b[43m)\u001b[49m\n\u001b[0;32m      3\u001b[0m plt\u001b[38;5;241m.\u001b[39mshow()\n",
      "File \u001b[1;32m~\\anaconda3\\lib\\site-packages\\seaborn\\_decorators.py:46\u001b[0m, in \u001b[0;36m_deprecate_positional_args.<locals>.inner_f\u001b[1;34m(*args, **kwargs)\u001b[0m\n\u001b[0;32m     36\u001b[0m     warnings\u001b[38;5;241m.\u001b[39mwarn(\n\u001b[0;32m     37\u001b[0m         \u001b[38;5;124m\"\u001b[39m\u001b[38;5;124mPass the following variable\u001b[39m\u001b[38;5;132;01m{}\u001b[39;00m\u001b[38;5;124m as \u001b[39m\u001b[38;5;132;01m{}\u001b[39;00m\u001b[38;5;124mkeyword arg\u001b[39m\u001b[38;5;132;01m{}\u001b[39;00m\u001b[38;5;124m: \u001b[39m\u001b[38;5;132;01m{}\u001b[39;00m\u001b[38;5;124m. \u001b[39m\u001b[38;5;124m\"\u001b[39m\n\u001b[0;32m     38\u001b[0m         \u001b[38;5;124m\"\u001b[39m\u001b[38;5;124mFrom version 0.12, the only valid positional argument \u001b[39m\u001b[38;5;124m\"\u001b[39m\n\u001b[1;32m   (...)\u001b[0m\n\u001b[0;32m     43\u001b[0m         \u001b[38;5;167;01mFutureWarning\u001b[39;00m\n\u001b[0;32m     44\u001b[0m     )\n\u001b[0;32m     45\u001b[0m kwargs\u001b[38;5;241m.\u001b[39mupdate({k: arg \u001b[38;5;28;01mfor\u001b[39;00m k, arg \u001b[38;5;129;01min\u001b[39;00m \u001b[38;5;28mzip\u001b[39m(sig\u001b[38;5;241m.\u001b[39mparameters, args)})\n\u001b[1;32m---> 46\u001b[0m \u001b[38;5;28;01mreturn\u001b[39;00m f(\u001b[38;5;241m*\u001b[39m\u001b[38;5;241m*\u001b[39mkwargs)\n",
      "File \u001b[1;32m~\\anaconda3\\lib\\site-packages\\seaborn\\categorical.py:2243\u001b[0m, in \u001b[0;36mboxplot\u001b[1;34m(x, y, hue, data, order, hue_order, orient, color, palette, saturation, width, dodge, fliersize, linewidth, whis, ax, **kwargs)\u001b[0m\n\u001b[0;32m   2231\u001b[0m \u001b[38;5;129m@_deprecate_positional_args\u001b[39m\n\u001b[0;32m   2232\u001b[0m \u001b[38;5;28;01mdef\u001b[39;00m \u001b[38;5;21mboxplot\u001b[39m(\n\u001b[0;32m   2233\u001b[0m     \u001b[38;5;241m*\u001b[39m,\n\u001b[1;32m   (...)\u001b[0m\n\u001b[0;32m   2240\u001b[0m     \u001b[38;5;241m*\u001b[39m\u001b[38;5;241m*\u001b[39mkwargs\n\u001b[0;32m   2241\u001b[0m ):\n\u001b[1;32m-> 2243\u001b[0m     plotter \u001b[38;5;241m=\u001b[39m \u001b[43m_BoxPlotter\u001b[49m\u001b[43m(\u001b[49m\u001b[43mx\u001b[49m\u001b[43m,\u001b[49m\u001b[43m \u001b[49m\u001b[43my\u001b[49m\u001b[43m,\u001b[49m\u001b[43m \u001b[49m\u001b[43mhue\u001b[49m\u001b[43m,\u001b[49m\u001b[43m \u001b[49m\u001b[43mdata\u001b[49m\u001b[43m,\u001b[49m\u001b[43m \u001b[49m\u001b[43morder\u001b[49m\u001b[43m,\u001b[49m\u001b[43m \u001b[49m\u001b[43mhue_order\u001b[49m\u001b[43m,\u001b[49m\n\u001b[0;32m   2244\u001b[0m \u001b[43m                          \u001b[49m\u001b[43morient\u001b[49m\u001b[43m,\u001b[49m\u001b[43m \u001b[49m\u001b[43mcolor\u001b[49m\u001b[43m,\u001b[49m\u001b[43m \u001b[49m\u001b[43mpalette\u001b[49m\u001b[43m,\u001b[49m\u001b[43m \u001b[49m\u001b[43msaturation\u001b[49m\u001b[43m,\u001b[49m\n\u001b[0;32m   2245\u001b[0m \u001b[43m                          \u001b[49m\u001b[43mwidth\u001b[49m\u001b[43m,\u001b[49m\u001b[43m \u001b[49m\u001b[43mdodge\u001b[49m\u001b[43m,\u001b[49m\u001b[43m \u001b[49m\u001b[43mfliersize\u001b[49m\u001b[43m,\u001b[49m\u001b[43m \u001b[49m\u001b[43mlinewidth\u001b[49m\u001b[43m)\u001b[49m\n\u001b[0;32m   2247\u001b[0m     \u001b[38;5;28;01mif\u001b[39;00m ax \u001b[38;5;129;01mis\u001b[39;00m \u001b[38;5;28;01mNone\u001b[39;00m:\n\u001b[0;32m   2248\u001b[0m         ax \u001b[38;5;241m=\u001b[39m plt\u001b[38;5;241m.\u001b[39mgca()\n",
      "File \u001b[1;32m~\\anaconda3\\lib\\site-packages\\seaborn\\categorical.py:406\u001b[0m, in \u001b[0;36m_BoxPlotter.__init__\u001b[1;34m(self, x, y, hue, data, order, hue_order, orient, color, palette, saturation, width, dodge, fliersize, linewidth)\u001b[0m\n\u001b[0;32m    402\u001b[0m \u001b[38;5;28;01mdef\u001b[39;00m \u001b[38;5;21m__init__\u001b[39m(\u001b[38;5;28mself\u001b[39m, x, y, hue, data, order, hue_order,\n\u001b[0;32m    403\u001b[0m              orient, color, palette, saturation,\n\u001b[0;32m    404\u001b[0m              width, dodge, fliersize, linewidth):\n\u001b[1;32m--> 406\u001b[0m     \u001b[38;5;28;43mself\u001b[39;49m\u001b[38;5;241;43m.\u001b[39;49m\u001b[43mestablish_variables\u001b[49m\u001b[43m(\u001b[49m\u001b[43mx\u001b[49m\u001b[43m,\u001b[49m\u001b[43m \u001b[49m\u001b[43my\u001b[49m\u001b[43m,\u001b[49m\u001b[43m \u001b[49m\u001b[43mhue\u001b[49m\u001b[43m,\u001b[49m\u001b[43m \u001b[49m\u001b[43mdata\u001b[49m\u001b[43m,\u001b[49m\u001b[43m \u001b[49m\u001b[43morient\u001b[49m\u001b[43m,\u001b[49m\u001b[43m \u001b[49m\u001b[43morder\u001b[49m\u001b[43m,\u001b[49m\u001b[43m \u001b[49m\u001b[43mhue_order\u001b[49m\u001b[43m)\u001b[49m\n\u001b[0;32m    407\u001b[0m     \u001b[38;5;28mself\u001b[39m\u001b[38;5;241m.\u001b[39mestablish_colors(color, palette, saturation)\n\u001b[0;32m    409\u001b[0m     \u001b[38;5;28mself\u001b[39m\u001b[38;5;241m.\u001b[39mdodge \u001b[38;5;241m=\u001b[39m dodge\n",
      "File \u001b[1;32m~\\anaconda3\\lib\\site-packages\\seaborn\\categorical.py:153\u001b[0m, in \u001b[0;36m_CategoricalPlotter.establish_variables\u001b[1;34m(self, x, y, hue, data, orient, order, hue_order, units)\u001b[0m\n\u001b[0;32m    151\u001b[0m     \u001b[38;5;28;01mif\u001b[39;00m \u001b[38;5;28misinstance\u001b[39m(var, \u001b[38;5;28mstr\u001b[39m):\n\u001b[0;32m    152\u001b[0m         err \u001b[38;5;241m=\u001b[39m \u001b[38;5;124m\"\u001b[39m\u001b[38;5;124mCould not interpret input \u001b[39m\u001b[38;5;124m'\u001b[39m\u001b[38;5;132;01m{}\u001b[39;00m\u001b[38;5;124m'\u001b[39m\u001b[38;5;124m\"\u001b[39m\u001b[38;5;241m.\u001b[39mformat(var)\n\u001b[1;32m--> 153\u001b[0m         \u001b[38;5;28;01mraise\u001b[39;00m \u001b[38;5;167;01mValueError\u001b[39;00m(err)\n\u001b[0;32m    155\u001b[0m \u001b[38;5;66;03m# Figure out the plotting orientation\u001b[39;00m\n\u001b[0;32m    156\u001b[0m orient \u001b[38;5;241m=\u001b[39m infer_orient(\n\u001b[0;32m    157\u001b[0m     x, y, orient, require_numeric\u001b[38;5;241m=\u001b[39m\u001b[38;5;28mself\u001b[39m\u001b[38;5;241m.\u001b[39mrequire_numeric\n\u001b[0;32m    158\u001b[0m )\n",
      "\u001b[1;31mValueError\u001b[0m: Could not interpret input 'income'"
     ]
    },
    {
     "data": {
      "text/plain": [
       "<Figure size 720x720 with 0 Axes>"
      ]
     },
     "metadata": {},
     "output_type": "display_data"
    }
   ],
   "source": [
    "fig = plt.figure(figsize=(10,10)) \n",
    "sns.boxplot(x=\"income\", y=\"age\", data=data)\n",
    "plt.show()"
   ]
  },
  {
   "cell_type": "code",
   "execution_count": null,
   "metadata": {
    "colab": {
     "base_uri": "https://localhost:8080/",
     "height": 112
    },
    "id": "UPrcY7Cq_bNp",
    "outputId": "7e328870-1d27-4880-a5f1-52cb45c42e67"
   },
   "outputs": [],
   "source": [
    "data[['income', 'age']].groupby(['income'], as_index=False).mean().sort_values(by='age', ascending=False)"
   ]
  },
  {
   "cell_type": "markdown",
   "metadata": {
    "id": "-_rR1oTH_bNq"
   },
   "source": [
    "    The mean \"age\" for Income group(<=50k) is 36.8 years.\n",
    "    And for Income group(>50k) is 44.2 years"
   ]
  },
  {
   "cell_type": "markdown",
   "metadata": {
    "id": "4ETTBq2n_bNq"
   },
   "source": [
    "### ii. Description about boxplot"
   ]
  },
  {
   "cell_type": "markdown",
   "metadata": {
    "id": "5-htkfUY_bNq"
   },
   "source": [
    "The above bivariate boxplot shows :\n",
    "* Outliers present in both the income group(<=50k and >50k) wrt \"age\" attribute.\n",
    "* Income group(<=50k) has lower median \"age\"(34 year) than the Income group(>50k) which has median \"age\"(42 year).\n",
    "* Interquartile range(IQR) :\n",
    "   *   For Income group(<=50k) , IQR is between [25,46] (long range)\n",
    "> Middle 50% of the Age is spread over longer range for the income group who earn <=50k.   \n",
    "   *   For Income group(>50k) , IQR is between [38,50] (shorter range)"
   ]
  },
  {
   "cell_type": "markdown",
   "metadata": {
    "id": "TygoKlee_bNq"
   },
   "source": [
    "### iii. Hypothesis test (to test the relationship between income & Age )"
   ]
  },
  {
   "cell_type": "markdown",
   "metadata": {
    "id": "awImr1iJ_bNq"
   },
   "source": [
    "**Two sampled T-test** :-The Independent Samples t Test or 2-sample t-test compares the means of two independent groups in order to determine whether there is statistical evidence that the associated population means are significantly different. The Independent Samples t Test is a parametric test. This test is also known as: Independent t Test."
   ]
  },
  {
   "cell_type": "markdown",
   "metadata": {
    "id": "vZGPc3CA_bNq"
   },
   "source": [
    "Example : is there any association between age and income"
   ]
  },
  {
   "cell_type": "markdown",
   "metadata": {
    "id": "frPLnRg__bNq"
   },
   "source": [
    "\n",
    "\n",
    "Determine a null and alternative hypothesis.\n",
    "\n",
    "    In general, the null hypothesis will state that the two populations being tested have no statistically significant difference.\n",
    "    The alternate hypothesis will state that there is one present.\n",
    "\n"
   ]
  },
  {
   "cell_type": "markdown",
   "metadata": {
    "id": "c6TVCu5D_bNq"
   },
   "source": [
    "In this example we can say that:\n",
    "*  Null Hypothesis :- there is no difference in Mean age  of income group >50k and income group <=50k.\n",
    "*  Alternate Hypothesis :- there is difference in Mean age of income group >50k and income group <=50k.\n"
   ]
  },
  {
   "cell_type": "code",
   "execution_count": null,
   "metadata": {
    "id": "TZUtFm_Y_bNr"
   },
   "outputs": [],
   "source": [
    "import random\n",
    "\n",
    "data = data[(np.abs(stats.zscore(data[\"age\"])) < 3)] \n",
    "\n",
    "income_1 = data[data['income']==1]['age']\n",
    "income_0 = data[data['income']==0]['age']\n",
    "\n",
    "income_0 = income_0.values.tolist()\n",
    "income_0 = random.sample(income_0, 100)\n",
    "income_1 = income_1.values.tolist()\n",
    "income_1 = random.sample(income_1, 100)"
   ]
  },
  {
   "cell_type": "code",
   "execution_count": null,
   "metadata": {
    "colab": {
     "base_uri": "https://localhost:8080/"
    },
    "id": "xtT73ZZ4_bNr",
    "outputId": "765fcfd2-c45c-447e-eacd-b2364b578008"
   },
   "outputs": [],
   "source": [
    "from scipy.stats import ttest_ind\n",
    "ttest,pval = ttest_ind(income_1,income_0,equal_var = False)\n",
    "print(\"ttest\",ttest)\n",
    "print('p value',pval)\n",
    "\n",
    "\n",
    "if pval <0.05:\n",
    "    print(\"we reject null hypothesis\")\n",
    "else:\n",
    "    print(\"we accept null hypothesis\")"
   ]
  },
  {
   "cell_type": "markdown",
   "metadata": {
    "id": "WLlytRfj_bNr"
   },
   "source": [
    "### iv. Final conclusion"
   ]
  },
  {
   "cell_type": "markdown",
   "metadata": {
    "id": "Sq_g5lLF_bNr"
   },
   "source": [
    "Using statistical analysis,\n",
    "\n",
    "    We can conclude that there is a significant difference in the mean ages of income group >50k and income group <=50k.\n",
    "    It means that age has some contribution to the distinguish income groups.\n",
    "\n"
   ]
  },
  {
   "cell_type": "markdown",
   "metadata": {
    "id": "K-Em7lJw_bNr"
   },
   "source": [
    "## 5.2.2 Hours per week"
   ]
  },
  {
   "cell_type": "markdown",
   "metadata": {
    "id": "s0odOvxT_bNr"
   },
   "source": [
    "### i. Boxplot (Relationship with income)"
   ]
  },
  {
   "cell_type": "code",
   "execution_count": null,
   "metadata": {
    "colab": {
     "base_uri": "https://localhost:8080/",
     "height": 606
    },
    "id": "wIvoB2S7_bNr",
    "outputId": "bf7a9dc2-9c86-4948-e373-39a6727336c3"
   },
   "outputs": [],
   "source": [
    "fig = plt.figure(figsize=(10,10)) \n",
    "sns.boxplot(x=\"income\", y=\"hours-per-week\", data=data)\n",
    "plt.show()"
   ]
  },
  {
   "cell_type": "markdown",
   "metadata": {
    "id": "aH9BDhZ2_bNr"
   },
   "source": [
    "### ii. Description about boxplot"
   ]
  },
  {
   "cell_type": "markdown",
   "metadata": {
    "id": "tAM41twR_bNr"
   },
   "source": [
    "Bivariate Analysis with the boxplot shows that:\n",
    "* The median \"hours-per-week\" for Income group who earns >50k is greater than the Income group who earns <=50k.\n",
    ">   **Interpretation**\n",
    "    * Income group who earns >50k has spend ~44 \"hours-per-week\".(long hours)\n",
    "    * Income group who earns <=50k has spend  ~37 \"hours-per-week\".\n",
    "   \n",
    "* The boxplot for Income group who earns <=50k has small range for minimum (q1-1.5* IQR) and maximum (q3+ 1.5* IQR) i.e.~[28,48].But the boxplot for Income group who earns >50k has large range for minimum (q1-1.5* IQR) and maximum (q3+ 1.5* IQR) i.e.~[23,68].\n",
    ">   **Interpretation**\n",
    "    *  Income group who earns >50k have flexible working hours\n",
    "* More Outliers present in the Income group who earns <=50k."
   ]
  },
  {
   "cell_type": "markdown",
   "metadata": {
    "id": "nE3yZogr_bNs"
   },
   "source": [
    "### iii.  Hypothesis test (to test the relationship between income & hours-per-week )"
   ]
  },
  {
   "cell_type": "markdown",
   "metadata": {
    "id": "oZyiXC2J_bNs"
   },
   "source": [
    "In this example we can say that:\n",
    "\n",
    "    Null Hypothesis :- there is no difference in Mean of income group >50k and income group <=50k.\n",
    "    Alternate Hypothesis :- there is difference in Mean of income group >50k and income group <=50k.\n",
    "\n"
   ]
  },
  {
   "cell_type": "code",
   "execution_count": null,
   "metadata": {
    "colab": {
     "base_uri": "https://localhost:8080/"
    },
    "id": "VUHkYZs7_bNs",
    "outputId": "ec67c6c6-a61e-46f7-b59e-fb0cbf88c7dd"
   },
   "outputs": [],
   "source": [
    "data = data[(np.abs(stats.zscore(data[\"hours-per-week\"])) < 3)] \n",
    "\n",
    "income_1 = data[data['income']==1][\"hours-per-week\"]\n",
    "income_0 = data[data['income']==0][\"hours-per-week\"]\n",
    "\n",
    "income_0 = income_0.values.tolist()\n",
    "income_0 = random.sample(income_0, 100)\n",
    "income_1 = income_1.values.tolist()\n",
    "income_1 = random.sample(income_1, 100)\n",
    "\n",
    "ttest,pval = ttest_ind(income_1,income_0,equal_var = False)\n",
    "print(\"ttest\",ttest)\n",
    "print('p value',format(pval, '.70f'))\n",
    "\n",
    "if pval <0.05:\n",
    "    print(\"we reject null hypothesis\")\n",
    "else:\n",
    "    print(\"we accept null hypothesis\")"
   ]
  },
  {
   "cell_type": "markdown",
   "metadata": {
    "id": "gmgANTs7_bNs"
   },
   "source": [
    "### iv.  Final conclusion"
   ]
  },
  {
   "cell_type": "markdown",
   "metadata": {
    "id": "i97jkWtV_bNs"
   },
   "source": [
    "Using statistical analysis with the help of two sample t-test,\n",
    "\n",
    "    We can conclude that there is difference in Mean of income group >50k and income group <=50k.\n",
    "    It means that hours-per-week has some contribution to the distinguish income groups.\n",
    "\n"
   ]
  },
  {
   "cell_type": "markdown",
   "metadata": {
    "id": "iUFUL5-a_bNs"
   },
   "source": [
    "## 5.2.3 fnlwgt"
   ]
  },
  {
   "cell_type": "markdown",
   "metadata": {
    "id": "bVtnLeTf_bNs"
   },
   "source": [
    "### i. Boxplot (Relationship with income)"
   ]
  },
  {
   "cell_type": "code",
   "execution_count": null,
   "metadata": {
    "colab": {
     "base_uri": "https://localhost:8080/",
     "height": 453
    },
    "id": "mVvuXJTe_bNt",
    "outputId": "9bedbf83-e1df-45d1-e8dc-78834c988469"
   },
   "outputs": [],
   "source": [
    "plt.figure(figsize=(10,7))\n",
    "sns.boxplot(x=\"income\", y=\"fnlwgt\", data=data)\n",
    "plt.show()"
   ]
  },
  {
   "cell_type": "markdown",
   "metadata": {
    "id": "ZemUVu0V_bNt"
   },
   "source": [
    "### ii.  Description about boxplot"
   ]
  },
  {
   "cell_type": "markdown",
   "metadata": {
    "id": "zas95-31_bNt"
   },
   "source": [
    "* As evident from the above plot, both income group has nearly same IQR and median is centered on 0.\n",
    "* Outliers are present in both the income groups.\n",
    "* It seems that the boxplot for final weight w.r.t income groups is similar except the number of outliers in income group who earns <=50k is more."
   ]
  },
  {
   "cell_type": "markdown",
   "metadata": {
    "id": "sakRedjL_bNt"
   },
   "source": [
    "### iii. Hypothesis test (to test the relationship between income & fnlwgt)"
   ]
  },
  {
   "cell_type": "markdown",
   "metadata": {
    "id": "yp0Evv-V_bNt"
   },
   "source": [
    "\n",
    "    Null Hypothesis :- there is no difference in Mean of income group >50k and income group <=50k.\n",
    "    Alternate Hypothesis :- there is difference in Mean of income group >50k and income group <=50k."
   ]
  },
  {
   "cell_type": "code",
   "execution_count": null,
   "metadata": {
    "colab": {
     "base_uri": "https://localhost:8080/"
    },
    "id": "8gyfpPNZ_bNt",
    "outputId": "546df406-9dba-4b8d-98a1-dc9094400eda"
   },
   "outputs": [],
   "source": [
    "data = data[(np.abs(stats.zscore(data[\"fnlwgt\"])) < 3)] \n",
    "\n",
    "income_1 = data[data['income']==1][\"fnlwgt\"]\n",
    "income_0 = data[data['income']==0][\"fnlwgt\"]\n",
    "\n",
    "income_0 = income_0.values.tolist()\n",
    "income_0 = random.sample(income_0, 100)\n",
    "income_1 = income_1.values.tolist()\n",
    "income_1 = random.sample(income_1, 100)\n",
    "\n",
    "ttest,pval = ttest_ind(income_1,income_0,equal_var = False)\n",
    "print(\"ttest\",ttest)\n",
    "print(\"p-value\",pval)\n",
    "\n",
    "if pval <0.05:\n",
    "    print(\"we reject null hypothesis\")\n",
    "else:\n",
    "    print(\"we accept null hypothesis\")"
   ]
  },
  {
   "cell_type": "markdown",
   "metadata": {
    "id": "nJYhTe5P_bNt"
   },
   "source": [
    "### iv.  Final conclusion"
   ]
  },
  {
   "cell_type": "markdown",
   "metadata": {
    "id": "NOPrX83m_bNu"
   },
   "source": [
    "Using statistical analysis with the help of two sample t-test,\n",
    "\n",
    "    We can conclude that there is no difference in Mean of income group >50k and income group <=50k.\n",
    "    It means that final weight has no contribution to the distinguish income group.\n",
    "\n"
   ]
  },
  {
   "cell_type": "markdown",
   "metadata": {
    "id": "ay-eP_3M_bNu"
   },
   "source": [
    "## 5.2.4 capital-gain"
   ]
  },
  {
   "cell_type": "markdown",
   "metadata": {
    "id": "o2VeMvbF_bNu"
   },
   "source": [
    "### i. Boxplot (Relationship with income)"
   ]
  },
  {
   "cell_type": "code",
   "execution_count": null,
   "metadata": {
    "colab": {
     "base_uri": "https://localhost:8080/",
     "height": 442
    },
    "id": "ScWq1fB1_bNu",
    "outputId": "ae58e254-2a60-42d9-a262-b20e426b4cf5"
   },
   "outputs": [],
   "source": [
    "plt.figure(figsize=(10,7))\n",
    "sns.boxplot(x=\"income\", y=\"capital-gain\", data=data)\n",
    "plt.show()"
   ]
  },
  {
   "cell_type": "markdown",
   "metadata": {
    "id": "1D2HgeDh_bNv"
   },
   "source": [
    " ### ii. Description about boxplot"
   ]
  },
  {
   "cell_type": "markdown",
   "metadata": {
    "id": "BiMGTol8_bNv"
   },
   "source": [
    "This boxplot tells us that:\n",
    "\n",
    "    Most of the capital gains value is accumulated at 0 for both the income group ."
   ]
  },
  {
   "cell_type": "markdown",
   "metadata": {
    "id": "vpqq6EG__bNv"
   },
   "source": [
    "### iii. Hypothesis test (to test the relationship between income & capital gain )"
   ]
  },
  {
   "cell_type": "markdown",
   "metadata": {
    "id": "f9IwSBdw_bNv"
   },
   "source": [
    "* Null Hypothesis :- there is no difference in Mean of income group >50k and income group <=50k.\n",
    "* Alternate Hypothesis :- there is difference in Mean of income group >50k and income group <=50k."
   ]
  },
  {
   "cell_type": "code",
   "execution_count": null,
   "metadata": {
    "colab": {
     "base_uri": "https://localhost:8080/"
    },
    "id": "w5z_O5HU_bNv",
    "outputId": "71792d58-5b7b-41ab-f484-31dfafbd9404"
   },
   "outputs": [],
   "source": [
    "data = data[(np.abs(stats.zscore(data[\"capital-gain\"])) < 3)] \n",
    "\n",
    "income_1 = data[data['income']==1][\"capital-gain\"]\n",
    "income_0 = data[data['income']==0][\"capital-gain\"]\n",
    "\n",
    "income_0 = income_0.values.tolist()\n",
    "income_0 = random.sample(income_0, 100)\n",
    "income_1 = income_1.values.tolist()\n",
    "income_1 = random.sample(income_1, 100)\n",
    "\n",
    "ttest,pval = ttest_ind(income_1,income_0,equal_var = False)\n",
    "print(\"ttest\",ttest)\n",
    "print(\"p-value\",pval)\n",
    "\n",
    "if pval <0.05:\n",
    "    print(\"we reject null hypothesis\")\n",
    "else:\n",
    "    print(\"we accept null hypothesis\")"
   ]
  },
  {
   "cell_type": "markdown",
   "metadata": {
    "id": "nItVpueD_bNv"
   },
   "source": [
    "### iv.  Final conclusion"
   ]
  },
  {
   "cell_type": "markdown",
   "metadata": {
    "id": "1O4JLlJI_bNw"
   },
   "source": [
    "Using statistical analysis with the help of two sample t-test,\n",
    "\n",
    "    We can conclude that there is difference in Mean of income group >50k and income group <=50k."
   ]
  },
  {
   "cell_type": "markdown",
   "metadata": {
    "id": "qq5HF2VB_bNw"
   },
   "source": [
    "## 5.2.5. capital-loss"
   ]
  },
  {
   "cell_type": "markdown",
   "metadata": {
    "id": "JeFjVqLS_bNw"
   },
   "source": [
    "### i. Boxplot (Relationship with income)"
   ]
  },
  {
   "cell_type": "code",
   "execution_count": null,
   "metadata": {
    "colab": {
     "base_uri": "https://localhost:8080/",
     "height": 442
    },
    "id": "xiAWUnrd_bNw",
    "outputId": "613cbbdf-34d7-4250-a5ef-21ec008277af"
   },
   "outputs": [],
   "source": [
    "plt.figure(figsize=(10,7))\n",
    "sns.boxplot(x=\"income\", y=\"capital-loss\", data=data)\n",
    "plt.show()"
   ]
  },
  {
   "cell_type": "markdown",
   "metadata": {
    "id": "9ITpk3BJ_bNw"
   },
   "source": [
    "### ii. Description about boxplot"
   ]
  },
  {
   "cell_type": "markdown",
   "metadata": {
    "id": "-ecUJF7G_bNw"
   },
   "source": [
    "This boxplot is similar to the capital gain boxplot where most of the values are concentrated on 0."
   ]
  },
  {
   "cell_type": "markdown",
   "metadata": {
    "id": "EVvQkVhW_bNw"
   },
   "source": [
    "### iii. Hypothesis test (to test the relationship between income & capital loss )"
   ]
  },
  {
   "cell_type": "markdown",
   "metadata": {
    "id": "WDV7e_fz_bNx"
   },
   "source": [
    "\n",
    "    Null Hypothesis :- there is no difference in Mean of income group >50k and income group <=50k.\n",
    "    Alternate Hypothesis :- there is difference in Mean of income group >50k and income group <=50k."
   ]
  },
  {
   "cell_type": "code",
   "execution_count": null,
   "metadata": {
    "colab": {
     "base_uri": "https://localhost:8080/"
    },
    "id": "b2CNICdy_bNx",
    "outputId": "166b6d8f-37ec-4e56-a924-4d61243a33a0"
   },
   "outputs": [],
   "source": [
    "income_1 = data[data['income']==1][\"capital-loss\"]\n",
    "income_0 = data[data['income']==0][\"capital-loss\"]\n",
    "\n",
    "income_0 = income_0.values.tolist()\n",
    "income_0 = random.sample(income_0, 100)\n",
    "income_1 = income_1.values.tolist()\n",
    "income_1 = random.sample(income_1, 100)\n",
    "\n",
    "ttest,pval = ttest_ind(income_1,income_0,equal_var = False)\n",
    "print(\"ttest\",ttest)\n",
    "print(\"p-value\",pval)\n",
    "\n",
    "if pval <0.05:\n",
    "    print(\"we reject null hypothesis\")\n",
    "else:\n",
    "    print(\"we accept null hypothesis\")"
   ]
  },
  {
   "cell_type": "markdown",
   "metadata": {
    "id": "Aznnts7V_bNx"
   },
   "source": [
    "### iv. Final conclusion"
   ]
  },
  {
   "cell_type": "markdown",
   "metadata": {
    "id": "Erzeme3E_bNx"
   },
   "source": [
    "Using statistical analysis with the help of two sample t-test,\n",
    "\n",
    "    We can conclude that there is no difference in Mean capital loss of income group >50k and income group <=50k.\n",
    "    It means that capital-loss is unable to seperate the income groups."
   ]
  },
  {
   "cell_type": "markdown",
   "metadata": {
    "id": "xy6-eU02_bNx"
   },
   "source": [
    "## 5.2.6 Workclass"
   ]
  },
  {
   "cell_type": "markdown",
   "metadata": {
    "id": "ydE5iKDq_bNy"
   },
   "source": [
    "### i. Plot (Relationship with income)"
   ]
  },
  {
   "cell_type": "code",
   "execution_count": null,
   "metadata": {
    "colab": {
     "base_uri": "https://localhost:8080/",
     "height": 606
    },
    "id": "vDlRytqa_bNy",
    "outputId": "d5cf5e76-3b0c-427a-e5c1-9f5c841a0a5d"
   },
   "outputs": [],
   "source": [
    "plt.figure(figsize=(12,10))\n",
    "total = float(len(data[\"income\"]) )\n",
    "\n",
    "ax = sns.countplot(x=\"workclass\", hue=\"income\", data=data)\n",
    "for p in ax.patches:\n",
    "    height = p.get_height()\n",
    "    ax.text(p.get_x()+p.get_width()/2.,\n",
    "            height + 3,\n",
    "            '{:1.2f}'.format((height/total)*100),\n",
    "            ha=\"center\") \n",
    "plt.show()"
   ]
  },
  {
   "cell_type": "markdown",
   "metadata": {
    "id": "htDj2Kcv_bNy"
   },
   "source": [
    "### ii. Description about plot"
   ]
  },
  {
   "cell_type": "markdown",
   "metadata": {
    "id": "O4P3gLZD_bNy"
   },
   "source": [
    "This plot shows that:\n",
    "\n",
    "*     In private workclass most of the people(59.48%) earn <=50k(belong to income group 0).\n",
    "*     self-emp-inc workclass is only where more people earn >50k(belong to income group 1).\n",
    "*     In Federal-gov workclass nearly more than half of the people earn >50k."
   ]
  },
  {
   "cell_type": "markdown",
   "metadata": {
    "id": "92g1R24h_bNy"
   },
   "source": [
    "### iii.  Hypothesis test (to test the relationship between income & workclass)"
   ]
  },
  {
   "cell_type": "markdown",
   "metadata": {
    "id": "qF1dvnih_bNy"
   },
   "source": [
    "**Chi-square goodness of fit**"
   ]
  },
  {
   "cell_type": "markdown",
   "metadata": {
    "id": "z8oxrOdJ_bNy"
   },
   "source": [
    "A chi-square goodness of fit test allows us to test whether the observed proportions for a categorical variable differ from hypothesized proportions. The chi-square statistical test is used to determine whether there’s a significant difference between an expected distribution and an actual distribution.\n",
    "* For example, let’s suppose that we believe that the general population consists of 70% private workclass, 10% local-gov, 10% self-emp-not-inc and 10% self-emp-inc. We want to test whether the observed proportions from our sample differ significantly from these hypothesized proportions. "
   ]
  },
  {
   "cell_type": "code",
   "execution_count": null,
   "metadata": {
    "colab": {
     "base_uri": "https://localhost:8080/",
     "height": 269
    },
    "id": "YxzZmM80_bNz",
    "outputId": "f90a0eb2-d612-4339-9c76-18ac04588de4"
   },
   "outputs": [],
   "source": [
    "# contingency table\n",
    "c_t = pd.crosstab(data['workclass'].sample(frac=0.002, replace=True, random_state=1),data['income'].sample(frac=0.002, replace=True, random_state=1),margins = False) \n",
    "c_t"
   ]
  },
  {
   "cell_type": "markdown",
   "metadata": {
    "id": "9zb6uOP5_bNz"
   },
   "source": [
    "The table was called a contingency table, by Karl Pearson, because the intent is to help determine whether one variable is contingent upon or depends upon the other variable. For example, does an interest in **workclass** depend on **income**, or are they independent?\n",
    "\n",
    "This is challenging to determine from the table alone; instead, we can use a statistical method called the **Pearson’s Chi-Squared test**."
   ]
  },
  {
   "cell_type": "markdown",
   "metadata": {
    "id": "OMAw29tt_bN0"
   },
   "source": [
    "We can interpret the test statistic in the context of the chi-squared distribution with the requisite number of degress of freedom as follows:\n",
    "\n",
    "    If Statistic >= Critical Value: significant result, reject null hypothesis (H0), dependent.\n",
    "    If Statistic < Critical Value: not significant result, fail to reject null hypothesis (H0), independent."
   ]
  },
  {
   "cell_type": "markdown",
   "metadata": {
    "id": "3raCHo_o_bN0"
   },
   "source": [
    "Here, In this example\n",
    "\n",
    "*     **H0(Null Hypothesis)** : There is no relationship between workclass and income.\n",
    "*     **H1(Alternate Hypothesis)** : There is a relationship between workclass and income."
   ]
  },
  {
   "cell_type": "code",
   "execution_count": null,
   "metadata": {
    "colab": {
     "base_uri": "https://localhost:8080/"
    },
    "id": "SnojI6_0_bN0",
    "outputId": "0b3dabd4-83f6-429f-c76d-045a412a9488"
   },
   "outputs": [],
   "source": [
    "from scipy.stats import chi2_contingency\n",
    "from scipy.stats import chi2\n",
    "\n",
    "\n",
    "stat, p, dof, expected = chi2_contingency(c_t)\n",
    "print('dof=%d' % dof)\n",
    "print('p_value', p)\n",
    "print(expected)\n",
    "\n",
    "# interpret test-statistic\n",
    "prob = 0.95\n",
    "critical = chi2.ppf(prob, dof)\n",
    "print('probability=%.3f, critical=%.3f, stat=%.3f' % (prob, critical, stat))\n",
    "if abs(stat) >= critical:\n",
    "    print('Dependent (reject H0)')\n",
    "else:\n",
    "    print('Independent (fail to reject H0)')\n"
   ]
  },
  {
   "cell_type": "markdown",
   "metadata": {
    "id": "xahPmX8q_bN0"
   },
   "source": [
    "### iv.  Final conclusion"
   ]
  },
  {
   "cell_type": "markdown",
   "metadata": {
    "id": "G34oQWZO_bN0"
   },
   "source": [
    "\n",
    "\n",
    "With the help of Chi-Squared test,\n",
    "\n",
    "    As we have accept the H0, that there is no relationship between these two categorical variable.\n",
    "    We can conclude that is no dependency of \"workclass\" attribute on the target variable \"income"
   ]
  },
  {
   "cell_type": "markdown",
   "metadata": {
    "id": "3YDhqI30_bN1"
   },
   "source": [
    "## 5.2.7 Education"
   ]
  },
  {
   "cell_type": "markdown",
   "metadata": {
    "id": "JOcmsRom_bN1"
   },
   "source": [
    "### i. Plot (Relationship with income)"
   ]
  },
  {
   "cell_type": "code",
   "execution_count": null,
   "metadata": {
    "colab": {
     "base_uri": "https://localhost:8080/",
     "height": 606
    },
    "id": "iaz5Ee8u_bN1",
    "outputId": "eb615f09-7fec-4513-fd00-031dd11fda72"
   },
   "outputs": [],
   "source": [
    "plt.figure(figsize=(20,10))\n",
    "total = float(len(data[\"income\"]) )\n",
    "\n",
    "ax = sns.countplot(x=\"education\", hue=\"income\", data=data)\n",
    "for p in ax.patches:\n",
    "    height = p.get_height()\n",
    "    ax.text(p.get_x()+p.get_width()/2.,\n",
    "            height + 3,\n",
    "            '{:1.2f}'.format((height/total)*100),\n",
    "            ha=\"center\") \n",
    "plt.show()"
   ]
  },
  {
   "cell_type": "markdown",
   "metadata": {
    "id": "Yzk8mYt9_bN7"
   },
   "source": [
    "### ii. Description about plot"
   ]
  },
  {
   "cell_type": "markdown",
   "metadata": {
    "id": "uvl4t5p-_bN7"
   },
   "source": [
    "This plot shows that:\n",
    "\n",
    "*     Despite the fact that most of the categories fall under the HS-grad but the interesting thing is only 5.12% of all people belong to the income group 1(i.e. earns more than 50k), surprisely less than the categories fall under the Bachelors which is 6.78%.\n",
    "*     There only few categories in \"education\" attribute whose percentage to fall under income group 1 is greater than the falling under income group 0.\n",
    "*     These are prof-school, masters and doctorate.\n",
    "*     We can also infer that higher eduction may provide better earnings."
   ]
  },
  {
   "cell_type": "markdown",
   "metadata": {
    "id": "lPgmXZxb_bN7"
   },
   "source": [
    "### iii. Hypothesis test (to test the relationship between income & education)"
   ]
  },
  {
   "cell_type": "markdown",
   "metadata": {
    "id": "Jh_bV4d4_bN7"
   },
   "source": [
    "Here, In this example\n",
    "\n",
    "    H0(Null Hypothesis) : There is no relationship between education and income.\n",
    "    H1(Alternate Hypothesis) : There is a relationship between education and income"
   ]
  },
  {
   "cell_type": "code",
   "execution_count": null,
   "metadata": {
    "colab": {
     "base_uri": "https://localhost:8080/",
     "height": 488
    },
    "id": "sDDcpFRZ_bN7",
    "outputId": "f180ce6f-fd53-4f07-cdde-24a5598133b3"
   },
   "outputs": [],
   "source": [
    "# contingency table\n",
    "c_t = pd.crosstab(data['education'].sample(frac=0.002, replace=True, random_state=1),data['income'].sample(frac=0.002, replace=True, random_state=1),margins = False) \n",
    "c_t"
   ]
  },
  {
   "cell_type": "code",
   "execution_count": null,
   "metadata": {
    "colab": {
     "base_uri": "https://localhost:8080/"
    },
    "id": "qw52_71T_bN7",
    "outputId": "19f064a0-2cf4-4bee-ccee-2d207972afb8"
   },
   "outputs": [],
   "source": [
    "stat, p, dof, expected = chi2_contingency(c_t)\n",
    "print('dof=%d' % dof)\n",
    "print(\"p-value\", p)\n",
    "print(expected)\n",
    "\n",
    "# interpret test-statistic\n",
    "prob = 0.95\n",
    "critical = chi2.ppf(prob, dof)\n",
    "print('probability=%.3f, critical=%.3f, stat=%.3f' % (prob, critical, stat))\n",
    "\n",
    "if abs(stat) >= critical:\n",
    "    print('Dependent (reject H0)')\n",
    "else:\n",
    "    print('Independent (fail to reject H0)')"
   ]
  },
  {
   "cell_type": "markdown",
   "metadata": {
    "id": "spu4DWu1_bN8"
   },
   "source": [
    "### iv.  Final conclusion"
   ]
  },
  {
   "cell_type": "markdown",
   "metadata": {
    "id": "c1Kd8BSr_bN8"
   },
   "source": [
    "With the help of Chi-Squared test,\n",
    "\n",
    "*     As we have rejected the H0, that there is no relationship between these two categorical variable.\n",
    "*     We can conclude that is some dependency of \"education\" attribute on the target variable \"income\""
   ]
  },
  {
   "cell_type": "markdown",
   "metadata": {
    "id": "21_9yIfc_bN8"
   },
   "source": [
    "## 5.2.8 Marital-status"
   ]
  },
  {
   "cell_type": "markdown",
   "metadata": {
    "id": "XJxf_C4r_bN8"
   },
   "source": [
    "### i. Plot (Relationship with income)"
   ]
  },
  {
   "cell_type": "code",
   "execution_count": null,
   "metadata": {
    "colab": {
     "base_uri": "https://localhost:8080/",
     "height": 606
    },
    "id": "pZJtfsIF_bN8",
    "outputId": "ca346bbc-a37c-4044-8443-240bf2e25800"
   },
   "outputs": [],
   "source": [
    "plt.figure(figsize=(17,10))\n",
    "total = float(len(data) )\n",
    "\n",
    "ax = sns.countplot(x=\"marital-status\", hue=\"income\", data=data)\n",
    "for p in ax.patches:\n",
    "    height = p.get_height()\n",
    "    ax.text(p.get_x()+p.get_width()/2.,\n",
    "            height + 3,\n",
    "            '{:1.2f}'.format((height/total)*100),\n",
    "            ha=\"center\") \n",
    "plt.show()"
   ]
  },
  {
   "cell_type": "markdown",
   "metadata": {
    "id": "ZqfWWvqo_bN8"
   },
   "source": [
    "### ii. Description about plot"
   ]
  },
  {
   "cell_type": "markdown",
   "metadata": {
    "id": "-4V2rKx6_bN8"
   },
   "source": [
    "This countplot explain following things:\n",
    "\n",
    "*     Married-civ-spouse has the highest percentage(20.44%) of falling under the income group 1(>50k).\n",
    "*     Despite the fact that we have 16117 observation in the marital-status attribute(which is sec. highest) but only 1.5% of the people of \"Never-married\" earn more than 50k.\n",
    "*     Married-spouse-absent and Married-AF-spouse has negligible contribution to the fall under income group 1."
   ]
  },
  {
   "cell_type": "markdown",
   "metadata": {
    "id": "OeqCtx6f_bN8"
   },
   "source": [
    "### iii. Hypothesis test (to test the relationship between income & marital-status)"
   ]
  },
  {
   "cell_type": "markdown",
   "metadata": {
    "id": "d0Bixy-F_bN8"
   },
   "source": [
    "Here, In this example\n",
    "\n",
    "*     **H0(Null Hypothesis)** : There is no relationship between marital-status and income.\n",
    "*     **H1(Alternate Hypothesis)** : There is a relationship between marital-status and income."
   ]
  },
  {
   "cell_type": "code",
   "execution_count": null,
   "metadata": {
    "colab": {
     "base_uri": "https://localhost:8080/",
     "height": 206
    },
    "id": "KcLiUIOj_bN9",
    "outputId": "e088d7c3-7fc2-45e4-8937-97b8db6ec1a8"
   },
   "outputs": [],
   "source": [
    "# contingency table\n",
    "c_t = pd.crosstab(data['marital-status'].sample(frac=0.002, replace=True, random_state=1),data['income'].sample(frac=0.002, replace=True, random_state=1),margins = False) \n",
    "c_t"
   ]
  },
  {
   "cell_type": "code",
   "execution_count": null,
   "metadata": {
    "colab": {
     "base_uri": "https://localhost:8080/"
    },
    "id": "ijmiFYhq_bN9",
    "outputId": "b6a6337f-9072-4947-c28a-0042adec2e33"
   },
   "outputs": [],
   "source": [
    "stat, p, dof, expected = chi2_contingency(c_t)\n",
    "print('dof=%d' % dof)\n",
    "print('p_value', p)\n",
    "print(expected)\n",
    "\n",
    "# interpret test-statistic\n",
    "prob = 0.95\n",
    "critical = chi2.ppf(prob, dof)\n",
    "print('probability=%.3f, critical=%.3f, stat=%.3f' % (prob, critical, stat))\n",
    "\n",
    "if abs(stat) >= critical:\n",
    "    print('Dependent (reject H0)')\n",
    "else:\n",
    "    print('Independent (fail to reject H0)')"
   ]
  },
  {
   "cell_type": "markdown",
   "metadata": {
    "id": "41XjNC4W_bN9"
   },
   "source": [
    "### iv. Final conclusion"
   ]
  },
  {
   "cell_type": "markdown",
   "metadata": {
    "id": "7lWSG1Tx_bN9"
   },
   "source": [
    "With the help of Chi-Squared test,\n",
    "\n",
    "* As we have rejected the H0, that there is no relationship between these two categorical variable.\n",
    "* We can conclude that is some dependency of \"marital-status\" attribute on the target variable \"income\""
   ]
  },
  {
   "cell_type": "markdown",
   "metadata": {
    "id": "wqy6DNQr_bN9"
   },
   "source": [
    "## 5.2.9 Occupation"
   ]
  },
  {
   "cell_type": "markdown",
   "metadata": {
    "id": "CcXUD4xD_bN9"
   },
   "source": [
    "### i. Plot (Relationship with income)"
   ]
  },
  {
   "cell_type": "code",
   "execution_count": null,
   "metadata": {
    "colab": {
     "base_uri": "https://localhost:8080/",
     "height": 589
    },
    "id": "u7kfEc8B_bN9",
    "outputId": "6dff9b75-b74a-4020-fc49-65ed94214fcc"
   },
   "outputs": [],
   "source": [
    "plt.figure(figsize=(25,10))\n",
    "total = float(len(data) )\n",
    "\n",
    "ax = sns.countplot(x=\"occupation\", hue=\"income\", data=data)\n",
    "for p in ax.patches:\n",
    "    height = p.get_height()\n",
    "    ax.text(p.get_x()+p.get_width()/2.,\n",
    "            height + 3,\n",
    "            '{:1.2f}'.format((height/total)*100),\n",
    "            ha=\"center\") \n",
    "plt.show()"
   ]
  },
  {
   "cell_type": "markdown",
   "metadata": {
    "id": "hmXCRzau_bN9"
   },
   "source": [
    "### ii. Description about plot"
   ]
  },
  {
   "cell_type": "markdown",
   "metadata": {
    "id": "tp6y4Ssp_bN-"
   },
   "source": [
    "This countplot explain following things:\n",
    "\n",
    "*     Prof-specialty has maximum percentage that fall in both income group 0 and 1 in whole categories with 12.15% and 6.24% respectively.\n",
    "*     There is an interesting thing to look in this plot which is no occupation has greater percentage of falling in income group 1 than the income group 0. i.e. in every occupation, people who earn less than 50k is greater than people who earn >50k."
   ]
  },
  {
   "cell_type": "markdown",
   "metadata": {
    "id": "93cHuDBo_bN-"
   },
   "source": [
    "### iii. Hypothesis test (to test the relationship between income & occupation)"
   ]
  },
  {
   "cell_type": "markdown",
   "metadata": {
    "id": "oGtJYgn7_bN-"
   },
   "source": [
    "Here, In this example\n",
    "\n",
    "    H0(Null Hypothesis) : There is no relationship between occupation and income.\n",
    "    H1(Alternate Hypothesis) : There is a relationship between occupation and income."
   ]
  },
  {
   "cell_type": "code",
   "execution_count": null,
   "metadata": {
    "colab": {
     "base_uri": "https://localhost:8080/",
     "height": 457
    },
    "id": "q1s-il0-_bN-",
    "outputId": "e926e889-19be-4b7a-a98e-3ef50c987fc9"
   },
   "outputs": [],
   "source": [
    "# contingency table\n",
    "c_t = pd.crosstab(data['occupation'].sample(frac=0.002, replace=True, random_state=1),data['income'].sample(frac=0.002, replace=True, random_state=1),margins = False) \n",
    "c_t"
   ]
  },
  {
   "cell_type": "code",
   "execution_count": null,
   "metadata": {
    "colab": {
     "base_uri": "https://localhost:8080/"
    },
    "id": "1PuzZw5S_bN-",
    "outputId": "45363ee4-a1c8-4822-84cc-639d55cc0e9b"
   },
   "outputs": [],
   "source": [
    "stat, p, dof, expected = chi2_contingency(c_t)\n",
    "print('dof=%d' % dof)\n",
    "print(expected)\n",
    "\n",
    "# interpret test-statistic\n",
    "prob = 0.95\n",
    "critical = chi2.ppf(prob, dof)\n",
    "print('probability=%.3f, critical=%.3f, stat=%.3f' % (prob, critical, stat))\n",
    "\n",
    "if abs(stat) >= critical:\n",
    "    print('Dependent (reject H0)')\n",
    "else:\n",
    "    print('Independent (fail to reject H0)')"
   ]
  },
  {
   "cell_type": "markdown",
   "metadata": {
    "id": "2-5fa9Yv_bN-"
   },
   "source": [
    "### iv. Final conclusion"
   ]
  },
  {
   "cell_type": "markdown",
   "metadata": {
    "id": "jtr3Ec2n_bN-"
   },
   "source": [
    "With the help of Chi-Squared test,\n",
    "\n",
    "*     As we have rejected the H0, that there is no relationship between these two categorical variable.\n",
    "*     We can conclude that is some dependency of \"occupation\" attribute on the target variable \"income\""
   ]
  },
  {
   "cell_type": "markdown",
   "metadata": {
    "id": "FAQh9W-F_bN-"
   },
   "source": [
    "## 5.2.10 Relationship"
   ]
  },
  {
   "cell_type": "markdown",
   "metadata": {
    "id": "qURpWpdH_bN_"
   },
   "source": [
    "### i. Plot (Relationship with income)"
   ]
  },
  {
   "cell_type": "code",
   "execution_count": null,
   "metadata": {
    "colab": {
     "base_uri": "https://localhost:8080/",
     "height": 606
    },
    "id": "8s9_WYAC_bN_",
    "outputId": "99940d0a-4cc8-4160-f918-47e73d8eb864"
   },
   "outputs": [],
   "source": [
    "plt.figure(figsize=(17,10))\n",
    "total = float(len(data))\n",
    "\n",
    "ax = sns.countplot(x=\"relationship\", hue=\"income\", data=data)\n",
    "for p in ax.patches:\n",
    "    height = p.get_height()\n",
    "    ax.text(p.get_x()+p.get_width()/2.,\n",
    "            height + 3,\n",
    "            '{:1.2f}'.format((height/total)*100),\n",
    "            ha=\"center\") \n",
    "plt.show()"
   ]
  },
  {
   "cell_type": "markdown",
   "metadata": {
    "id": "NCl8IJnl_bN_"
   },
   "source": [
    "### ii. Description about plot"
   ]
  },
  {
   "cell_type": "markdown",
   "metadata": {
    "id": "hKfOaT6q_bN_"
   },
   "source": [
    "This countplot explain following things:\n",
    "\n",
    "*     husbands has the highest percentage(18.11%) of earning more than 50k in all the other categories.\n",
    "*     One thing to notice is that \"not-in-family\" has highest percentage(23.15%) to earn less than 50k but they had nearly same percentage(2.61%) as of the \"wife\"(2.24%) category. This comparsion is done due to fact that \"wife\" category has only 2.53% to fall under the income group 0.\n",
    "*     \"own-child\" and \"other-relative\" has the minimum percentage to fall under the income group 1 i.e. 0.23% and 0.11% respectively.\n",
    "*     There is huge difference between the percentage of fall either groups except for \"husband\" and \"wife\"."
   ]
  },
  {
   "cell_type": "markdown",
   "metadata": {
    "id": "zFnNpmHs_bN_"
   },
   "source": [
    "### iii. Hypothesis test (to test the relationship between income & relationship)"
   ]
  },
  {
   "cell_type": "markdown",
   "metadata": {
    "id": "0neX1t9c_bN_"
   },
   "source": [
    "Here, In this example\n",
    "\n",
    "*     **H0(Null Hypothesis)** : Both the relationship and income variables are independent to each other.\n",
    "*     **H1(Alternate Hypothesis)** : There is a dependent to each other."
   ]
  },
  {
   "cell_type": "code",
   "execution_count": null,
   "metadata": {
    "colab": {
     "base_uri": "https://localhost:8080/",
     "height": 269
    },
    "id": "1t5DrvWX_bN_",
    "outputId": "79dc1af9-9160-4f14-c578-0df02ade278d"
   },
   "outputs": [],
   "source": [
    "# contingency table\n",
    "c_t = pd.crosstab(data['relationship'].sample(frac=0.002, replace=True, random_state=1),data['income'].sample(frac=0.002, replace=True, random_state=1),margins = False) \n",
    "c_t"
   ]
  },
  {
   "cell_type": "code",
   "execution_count": null,
   "metadata": {
    "colab": {
     "base_uri": "https://localhost:8080/"
    },
    "id": "ZORh41Al_bN_",
    "outputId": "fabbaadd-18c1-430d-fa1e-cab04ad3c98e"
   },
   "outputs": [],
   "source": [
    "stat, p, dof, expected = chi2_contingency(c_t)\n",
    "print('dof=%d' % dof)\n",
    "print(expected)\n",
    "\n",
    "# interpret test-statistic\n",
    "prob = 0.95\n",
    "critical = chi2.ppf(prob, dof)\n",
    "print('probability=%.3f, critical=%.3f, stat=%.3f' % (prob, critical, stat))\n",
    "\n",
    "if abs(stat) >= critical:\n",
    "    print('Dependent (reject H0)')\n",
    "else:\n",
    "    print('Independent (fail to reject H0)')"
   ]
  },
  {
   "cell_type": "markdown",
   "metadata": {
    "id": "y9Jg0Lv7_bN_"
   },
   "source": [
    "### iv. Final conclusion"
   ]
  },
  {
   "cell_type": "markdown",
   "metadata": {
    "id": "Kr-HqjbI_bOA"
   },
   "source": [
    "With the help of Chi-Squared test,\n",
    "\n",
    "*     As we have rejected the H0, that there are independent to each other..\n",
    "*     We can conclude that is some dependency of \"relationship\" attribute on the target variable \"income\"\n"
   ]
  },
  {
   "cell_type": "markdown",
   "metadata": {
    "id": "0T_mSijw_bOA"
   },
   "source": [
    "## 5.2.11 Race"
   ]
  },
  {
   "cell_type": "markdown",
   "metadata": {
    "id": "Y-dyAqZi_bOA"
   },
   "source": [
    "### i.  Plot (Relationship with income)"
   ]
  },
  {
   "cell_type": "code",
   "execution_count": null,
   "metadata": {
    "colab": {
     "base_uri": "https://localhost:8080/",
     "height": 606
    },
    "id": "mS8c3yZl_bOA",
    "outputId": "438e8380-3f74-460b-8dfd-09f1ad5ae418"
   },
   "outputs": [],
   "source": [
    "plt.figure(figsize=(17,10))\n",
    "total = float(len(data) )\n",
    "\n",
    "ax = sns.countplot(x=\"race\", hue=\"income\", data=data)\n",
    "for p in ax.patches:\n",
    "    height = p.get_height()\n",
    "    ax.text(p.get_x()+p.get_width()/2.,\n",
    "            height + 3,\n",
    "            '{:1.2f}'.format((height/total)*100),\n",
    "            ha=\"center\") \n",
    "plt.show()"
   ]
  },
  {
   "cell_type": "markdown",
   "metadata": {
    "id": "BOwIWFI__bOA"
   },
   "source": [
    "### ii. Description about plot"
   ]
  },
  {
   "cell_type": "markdown",
   "metadata": {
    "id": "amS2kr1x_bOA"
   },
   "source": [
    "This countplot explain following things:\n",
    "\n",
    "*     The relationship of \"white\" race with \"income\" can easily guess based on previous summary statistics.\n",
    "*     There is huge difference between the percentage of fall either groups for each \"race\" except for the \"other\"(.63%) and \"amer-indian-eskimo\"(.74%) but this could be due the lesser number of observations for those categories."
   ]
  },
  {
   "cell_type": "markdown",
   "metadata": {
    "id": "kXWexKvS_bOA"
   },
   "source": [
    "### iii. Hypothesis test (to test the relationship between income & race)"
   ]
  },
  {
   "cell_type": "markdown",
   "metadata": {
    "id": "0MSFgiVG_bOA"
   },
   "source": [
    "Here, In this example\n",
    "\n",
    "*     **H0(Null Hypothesis)** : There is no relationship between race and income.\n",
    "*     **H1(Alternate Hypothesis)** : There is a relationship between race and income."
   ]
  },
  {
   "cell_type": "code",
   "execution_count": null,
   "metadata": {
    "colab": {
     "base_uri": "https://localhost:8080/",
     "height": 206
    },
    "id": "PgofEwol_bOA",
    "outputId": "9754777f-f854-4f2f-e2d9-79baad90f430"
   },
   "outputs": [],
   "source": [
    "# contingency table\n",
    "c_t = pd.crosstab(data['race'].sample(frac=0.002, replace=True, random_state=1),data['income'].sample(frac=0.002, replace=True, random_state=1),margins = False) \n",
    "c_t"
   ]
  },
  {
   "cell_type": "code",
   "execution_count": null,
   "metadata": {
    "colab": {
     "base_uri": "https://localhost:8080/"
    },
    "id": "wZB6dnSi_bOB",
    "outputId": "f63c3a28-1975-4fef-c0d0-6bfaa07f98f3"
   },
   "outputs": [],
   "source": [
    "stat, p, dof, expected = chi2_contingency(c_t)\n",
    "print('dof=%d' % dof)\n",
    "print('p_value', p)\n",
    "print(expected)\n",
    "\n",
    "# interpret test-statistic\n",
    "prob = 0.95\n",
    "critical = chi2.ppf(prob, dof)\n",
    "print('probability=%.3f, critical=%.3f, stat=%.3f' % (prob, critical, stat))\n",
    "\n",
    "if abs(stat) >= critical:\n",
    "    print('Dependent (reject H0)')\n",
    "else:\n",
    "    print('Independent (fail to reject H0)')"
   ]
  },
  {
   "cell_type": "markdown",
   "metadata": {
    "id": "X_uRCrHp_bOB"
   },
   "source": [
    "### iv. Final conclusion"
   ]
  },
  {
   "cell_type": "markdown",
   "metadata": {
    "id": "rik3ttVH_bOB"
   },
   "source": [
    "With the help of Chi-Squared test,\n",
    "\n",
    "*     As we have accept the H0, that there is no relationship between these two categorical variable.\n",
    "*     We can conclude that is no dependency of \"race\" attribute on the target variable \"income\""
   ]
  },
  {
   "cell_type": "markdown",
   "metadata": {
    "id": "muXLVxgE_bOB"
   },
   "source": [
    "## 5.2.12 Gender"
   ]
  },
  {
   "cell_type": "markdown",
   "metadata": {
    "id": "piTuCzZv_bOB"
   },
   "source": [
    "### i. Plot (Relationship with income)"
   ]
  },
  {
   "cell_type": "code",
   "execution_count": null,
   "metadata": {
    "colab": {
     "base_uri": "https://localhost:8080/",
     "height": 606
    },
    "id": "omcXYFDi_bOB",
    "outputId": "98448173-eb4d-427d-e524-4170e5d3c9b8"
   },
   "outputs": [],
   "source": [
    "plt.figure(figsize=(10,10))\n",
    "total = float(len(data) )\n",
    "\n",
    "ax = sns.countplot(x=\"gender\", hue=\"income\", data=data)\n",
    "for p in ax.patches:\n",
    "    height = p.get_height()\n",
    "    ax.text(p.get_x()+p.get_width()/2.,\n",
    "            height + 3,\n",
    "            '{:1.2f}'.format((height/total)*100),\n",
    "            ha=\"center\") \n",
    "plt.show()"
   ]
  },
  {
   "cell_type": "markdown",
   "metadata": {
    "id": "hKF3YSdZ_bOB"
   },
   "source": [
    "### ii. Description about plot"
   ]
  },
  {
   "cell_type": "markdown",
   "metadata": {
    "id": "Ynh1Vv7i_bOB"
   },
   "source": [
    "This countplot explain following things:\n",
    "\n",
    "*     For \"female\" earning more than 50k is rare with only 3.62% of all observations.\n",
    "*     But for male, 20.31% of all people earn more than 50k ."
   ]
  },
  {
   "cell_type": "markdown",
   "metadata": {
    "id": "AQWzXixn_bOC"
   },
   "source": [
    "### iii. Hypothesis test (to test the relationship between income & gender)"
   ]
  },
  {
   "cell_type": "markdown",
   "metadata": {
    "id": "ZzUEB8Hy_bOC"
   },
   "source": [
    "Here, In this example\n",
    "\n",
    "*     **H0(Null Hypothesis)** : There is no relationship between gender and income.\n",
    "*     **H1(Alternate Hypothesis**) : There is a relationship between gender and income."
   ]
  },
  {
   "cell_type": "code",
   "execution_count": null,
   "metadata": {
    "colab": {
     "base_uri": "https://localhost:8080/",
     "height": 143
    },
    "id": "AFeUpYJ1_bOC",
    "outputId": "8032863a-e95b-4b50-c03c-4cd76e356f45"
   },
   "outputs": [],
   "source": [
    "# contingency table\n",
    "c_t = pd.crosstab(data['gender'].sample(frac=0.002, replace=True, random_state=1),data['income'].sample(frac=0.002, replace=True, random_state=1),margins = False) \n",
    "c_t"
   ]
  },
  {
   "cell_type": "code",
   "execution_count": null,
   "metadata": {
    "colab": {
     "base_uri": "https://localhost:8080/"
    },
    "id": "uwuqfMxf_bOC",
    "outputId": "67f068b9-3155-490e-a6e4-2603a9943675"
   },
   "outputs": [],
   "source": [
    "stat, p, dof, expected = chi2_contingency(c_t)\n",
    "print('dof=%d' % dof)\n",
    "print('p_value', p)\n",
    "print(expected)\n",
    "\n",
    "# interpret test-statistic\n",
    "prob = 0.95\n",
    "critical = chi2.ppf(prob, dof)\n",
    "print('probability=%.3f, critical=%.3f, stat=%.3f' % (prob, critical, stat))\n",
    "\n",
    "if abs(stat) >= critical:\n",
    "    print('Dependent (reject H0)')\n",
    "else:\n",
    "    print('Independent (fail to reject H0)')"
   ]
  },
  {
   "cell_type": "markdown",
   "metadata": {
    "id": "3fMkGlvs_bOC"
   },
   "source": [
    "### iv. Final conclusion"
   ]
  },
  {
   "cell_type": "markdown",
   "metadata": {
    "id": "F_nj2slv_bOC"
   },
   "source": [
    "With the help of Chi-Squared test,\n",
    "\n",
    "*     As we have rejected the H0, that there is no relationship between these two categorical variable.\n",
    "*     We can conclude that is some dependency of \"gender\" attribute on the target variable \"income\""
   ]
  },
  {
   "cell_type": "markdown",
   "metadata": {
    "id": "-pYBBV9x_bOC"
   },
   "source": [
    "## 5.2.12 Native-country"
   ]
  },
  {
   "cell_type": "markdown",
   "metadata": {
    "id": "BiCH4HrD_bOC"
   },
   "source": [
    "### i. Hypothesis test (to test the relationship between income & native-country)"
   ]
  },
  {
   "cell_type": "markdown",
   "metadata": {
    "id": "FI3dWuBN_bOC"
   },
   "source": [
    "Here, In this example\n",
    "\n",
    "*     **H0(Null Hypothesis)** : There is no relationship between native-country and income.\n",
    "*     **H1(Alternate Hypothesis)** : There is a relationship between native-country and income."
   ]
  },
  {
   "cell_type": "code",
   "execution_count": null,
   "metadata": {
    "id": "Lb5PxCaD_bOD"
   },
   "outputs": [],
   "source": [
    "# contingency table\n",
    "c_t = pd.crosstab(data['native-country'].sample(frac=0.002, replace=True, random_state=1),data['income'].sample(frac=0.002, replace=True, random_state=1),margins = False) "
   ]
  },
  {
   "cell_type": "code",
   "execution_count": null,
   "metadata": {
    "colab": {
     "base_uri": "https://localhost:8080/"
    },
    "id": "73v7JbCj_bOD",
    "outputId": "6fa2fdc6-2416-4d18-a9b1-2ff765e02c4d"
   },
   "outputs": [],
   "source": [
    "stat, p, dof, expected = chi2_contingency(c_t)\n",
    "print('dof=%d' % dof)\n",
    "print('p_value', p)\n",
    "print(expected)\n",
    "\n",
    "# interpret test-statistic\n",
    "prob = 0.95\n",
    "critical = chi2.ppf(prob, dof)\n",
    "print('probability=%.3f, critical=%.3f, stat=%.3f' % (prob, critical, stat))\n",
    "\n",
    "if abs(stat) >= critical:\n",
    "    print('Dependent (reject H0)')\n",
    "else:\n",
    "    print('Independent (fail to reject H0)')"
   ]
  },
  {
   "cell_type": "markdown",
   "metadata": {
    "id": "d9hz8Bye_bOD"
   },
   "source": [
    "### ii. Final conclusion"
   ]
  },
  {
   "cell_type": "markdown",
   "metadata": {
    "id": "MROGy4g5_bOD"
   },
   "source": [
    "With the help of Chi-Squared test,\n",
    "\n",
    "* As we have accept the H0, that there is no relationship between these two categorical variable.\n",
    "* We can conclude that is no dependency of \"native-country\" attribute on the target variable \"income\"\n"
   ]
  },
  {
   "cell_type": "markdown",
   "metadata": {
    "id": "ZhjHlUZK_bOD"
   },
   "source": [
    "## 5.3\tSome multivariate relationships"
   ]
  },
  {
   "cell_type": "markdown",
   "metadata": {
    "id": "cgrDV81O_bOD"
   },
   "source": [
    "### **5.3.1 Correlation among the numeric variables.**"
   ]
  },
  {
   "cell_type": "code",
   "execution_count": null,
   "metadata": {
    "colab": {
     "base_uri": "https://localhost:8080/",
     "height": 607
    },
    "id": "lC58qzxZ_bOD",
    "outputId": "d0acbb51-57b5-4934-c352-444984094913"
   },
   "outputs": [],
   "source": [
    "plt.figure(figsize=(15,10))  \n",
    "sns.heatmap(data_num.corr(),annot=True,linewidths=.5, cmap=\"Blues\")\n",
    "plt.title('Heatmap showing correlations between numerical data')\n",
    "plt.show()"
   ]
  },
  {
   "cell_type": "markdown",
   "metadata": {
    "id": "maRk84rQ_bOD"
   },
   "source": [
    "* There is no strong correlation among the numeric attributes.\n",
    "* There is neither strong positive nor strong negative correlation present in any variable .\n",
    "* The strongest correlation is present between capital gain and hours-per-week with Coefficient .082.(which is less than 0.1, it means that very small correlation among them).\n"
   ]
  },
  {
   "cell_type": "markdown",
   "metadata": {
    "id": "QsWb2rT3_bOD"
   },
   "source": [
    "### **5.3.2 Multivariate Analysis between \"income\", \"hours-per-week\", \"gender\"**"
   ]
  },
  {
   "cell_type": "code",
   "execution_count": null,
   "metadata": {
    "colab": {
     "base_uri": "https://localhost:8080/",
     "height": 388
    },
    "id": "tToP57Qw_bOE",
    "outputId": "5548454f-aa55-432d-9281-7b28cbfd411b"
   },
   "outputs": [],
   "source": [
    "plt.figure(figsize=(12,6))\n",
    "sns.boxplot(x='income',y ='hours-per-week', hue='gender',data=data)\n",
    "plt.show()"
   ]
  },
  {
   "cell_type": "markdown",
   "metadata": {
    "id": "wIIrbeYt_bOE"
   },
   "source": [
    "* The median \"hours-per-week\" for females is lower than the males in the Income group who earns <=50k.\n",
    "* Boxplot range for Income group who earns <=50k [minimum (q1-1.5* IQR) and maximum (q3+ 1.5* IQR)] i.e.\n",
    "  * Male ~[32,52]\n",
    "  * Female ~[17,57]\n",
    "  \n",
    "> **Interpretation**\n",
    "\n",
    "     Females have more flexible working hours per week in the income groups who earns <=50k\n",
    "* Boxplot range for Income group who earns >50k [minimum (q1-1.5* IQR) and maximum (q3+ 1.5* IQR)] i.e.\n",
    "  * Male ~[23,63]\n",
    "  * Female ~[30,57]\n",
    "  \n",
    "> **Interpretation**\n",
    " \n",
    "     Males have more flexible working hours per week in the income groups who earns <=50k"
   ]
  },
  {
   "cell_type": "markdown",
   "metadata": {
    "id": "kyaLMSNI_bOE"
   },
   "source": [
    "### ** 5.3.3 Multivariate analysis between \"income\", \"age\", \"gender\"**"
   ]
  },
  {
   "cell_type": "code",
   "execution_count": null,
   "metadata": {
    "colab": {
     "base_uri": "https://localhost:8080/",
     "height": 606
    },
    "id": "m-I0e7Wb_bOE",
    "outputId": "9f21e6ad-981a-4f0b-fb2c-30dc0b6c5d3b"
   },
   "outputs": [],
   "source": [
    "plt.figure(figsize=(15,10))\n",
    "sns.boxplot(x=\"income\", y=\"age\",hue=\"gender\",data=data)\n",
    "plt.show()"
   ]
  },
  {
   "cell_type": "markdown",
   "metadata": {
    "id": "0sBtz2Cq_bOE"
   },
   "source": [
    "Multivariate analysis between \"income\", \"age\", \"gender\" shows that:\n",
    "*   Median \"age\" of Females who earn less than 50k has very minute difference than the Median \"age\" of males who earn less than 50k.\n",
    "*   But the Median \"age\" of Females who earn greater than 50k has age difference of 2-3years than the Median \"age\" of males who earn greater than 50k.\n"
   ]
  },
  {
   "cell_type": "markdown",
   "metadata": {
    "id": "bB1P_OVD_bOE"
   },
   "source": [
    "### Other Mutlivariate analysis "
   ]
  },
  {
   "cell_type": "code",
   "execution_count": null,
   "metadata": {
    "colab": {
     "base_uri": "https://localhost:8080/",
     "height": 609
    },
    "id": "0m-NSfj5_bOE",
    "outputId": "33174b76-4b9d-4e61-d4b3-c6d4c4df2be4"
   },
   "outputs": [],
   "source": [
    "fig = plt.figure(figsize = (17,10))\n",
    "ax = fig.add_subplot(2,1,1)\n",
    "sns.stripplot('age', 'capital-gain', data = data,\n",
    "         jitter = 0.2,ax = ax);\n",
    "plt.xlabel('Age',fontsize = 12);\n",
    "plt.ylabel('Capital Gain',fontsize = 12);\n",
    "\n",
    "ax = fig.add_subplot(2,1,2)\n",
    "sns.stripplot('age', 'capital-gain', data = data,\n",
    "         jitter = 0.2);\n",
    "plt.xlabel('Age',fontsize = 12);\n",
    "plt.ylabel('Capital Gain',fontsize = 12);\n",
    "plt.ylim(0,40000);"
   ]
  },
  {
   "cell_type": "markdown",
   "metadata": {
    "id": "bi_fA07x_bOF"
   },
   "source": [
    "> **Explanation:**\n",
    "*     Between age 28 and 64 capital gain is upto 15000 and after that it decreases and again increments at age 90\n",
    "*     Age 90 doesn't follow the pattern.\n",
    "*     Capital.gain of 99999 is clearly a outlier ."
   ]
  },
  {
   "cell_type": "code",
   "execution_count": null,
   "metadata": {
    "colab": {
     "base_uri": "https://localhost:8080/"
    },
    "id": "wCjP6tBz_bOF",
    "outputId": "2d65f4aa-feff-4036-d499-304a4f52290e"
   },
   "outputs": [],
   "source": [
    "cols = ['workclass','occupation']\n",
    "cat_col = data.dtypes[data.dtypes == 'object']\n",
    "for col in cat_col.index:\n",
    "    if col in cols:\n",
    "        print(f\"======================================={col}=========================\")\n",
    "        print(data[data['age'] == 90][col].value_counts())\n",
    "    else:\n",
    "        continue"
   ]
  },
  {
   "cell_type": "markdown",
   "metadata": {
    "id": "8WxVRrp6_bOF"
   },
   "source": [
    "**At age 90 people can't work in goverment or private sectors. But there are some observations present in our dataset which shows that despite the age of 90 years they work in those sectors.**\n"
   ]
  },
  {
   "cell_type": "code",
   "execution_count": null,
   "metadata": {
    "colab": {
     "base_uri": "https://localhost:8080/",
     "height": 609
    },
    "id": "xcexQARS_bOF",
    "outputId": "6c7333e8-2a0d-46a0-edc9-5c3958061204"
   },
   "outputs": [],
   "source": [
    "fig = plt.figure(figsize = (17,10))\n",
    "ax = fig.add_subplot(2,1,1)\n",
    "sns.stripplot('hours-per-week', 'capital-gain', data = data,\n",
    "         jitter = 0.2,ax = ax);\n",
    "plt.xlabel('Hours per week',fontsize = 12);\n",
    "plt.ylabel('Capital Gain',fontsize = 12);\n",
    "\n",
    "ax = fig.add_subplot(2,1,2)\n",
    "sns.stripplot('hours-per-week', 'capital-gain', data = data,\n",
    "         jitter = 0.2,ax = ax);\n",
    "plt.xlabel('Hours per week',fontsize = 12);\n",
    "plt.ylabel('Capital Gain',fontsize = 12);\n",
    "plt.ylim(0,40000);"
   ]
  },
  {
   "cell_type": "markdown",
   "metadata": {
    "id": "AZxs-v8w_bOF"
   },
   "source": [
    "> **Explanation:**\n",
    "*   Majority of people can be seen working for 40,50 and 60 hours per week and capital gain seems to be increasing.\n",
    "*   There are few people working for 99 hours per week but doesn't seem to make high capital gain. Conversely people working below 40 hours per week are making high capital gains."
   ]
  },
  {
   "cell_type": "code",
   "execution_count": null,
   "metadata": {
    "colab": {
     "base_uri": "https://localhost:8080/"
    },
    "id": "J0tJi_v8_bOF",
    "outputId": "ad44e84a-8814-4c11-b5b5-45272937fca4"
   },
   "outputs": [],
   "source": [
    "cols = ['workclass','occupation']\n",
    "cat_col = data.dtypes[data.dtypes == 'object']\n",
    "for col in cat_col.index:\n",
    "    if col in cols:\n",
    "        print(f\"======================================={col}=========================\")\n",
    "        print(data[data['hours-per-week'] == 99][col].value_counts())\n",
    "    else:\n",
    "        continue"
   ]
  },
  {
   "cell_type": "markdown",
   "metadata": {
    "id": "ayH-t4WT_bOF"
   },
   "source": [
    "\n"
   ]
  },
  {
   "cell_type": "markdown",
   "metadata": {
    "id": "PZZZqt6E_bOG"
   },
   "source": [
    "## 5.3.4 Making new variable(capital_change)"
   ]
  },
  {
   "cell_type": "markdown",
   "metadata": {
    "id": "Xud8khV3_bOG"
   },
   "source": [
    "### **i. Summary statistics**"
   ]
  },
  {
   "cell_type": "code",
   "execution_count": null,
   "metadata": {
    "colab": {
     "base_uri": "https://localhost:8080/"
    },
    "id": "m7f2Nwxh_bOG",
    "outputId": "667e82d3-6d6c-4911-d234-2e5b37b34f7a"
   },
   "outputs": [],
   "source": [
    "data[\"capital_change\"] = data[\"capital-gain\"] - data[\"capital-loss\"]\n",
    "data[\"capital_change\"].describe()"
   ]
  },
  {
   "cell_type": "markdown",
   "metadata": {
    "id": "b3Kxh7R9_bOG"
   },
   "source": [
    "### **ii. Distribution**"
   ]
  },
  {
   "cell_type": "code",
   "execution_count": null,
   "metadata": {
    "colab": {
     "base_uri": "https://localhost:8080/",
     "height": 484
    },
    "id": "x-W5oM4c_bOG",
    "outputId": "792141d2-3775-4ca5-9ee8-cdfdb75f4891"
   },
   "outputs": [],
   "source": [
    "data[\"capital_change\"].hist(figsize=(8,8))\n",
    "plt.show()"
   ]
  },
  {
   "cell_type": "markdown",
   "metadata": {
    "id": "dVbHaP6K_bOG"
   },
   "source": [
    "### **iii. Description about summary & Distribution**"
   ]
  },
  {
   "cell_type": "markdown",
   "metadata": {
    "id": "277x2V6U_bOG"
   },
   "source": [
    "The summary statistics and distribution of **capital_change** shows that:\n",
    "* It is similar summary stats and distribution to the capital gain and capital loss.\n",
    "* This suggest that , we may replace these two features with one feature called **capital_change**"
   ]
  },
  {
   "cell_type": "markdown",
   "metadata": {
    "id": "9_SlQudc_bOG"
   },
   "source": [
    "### **iv. Hypothesis test (to test the relationship between income & capital change)**"
   ]
  },
  {
   "cell_type": "markdown",
   "metadata": {
    "id": "EXECbxeg_bOG"
   },
   "source": [
    "* Null Hypothesis :- there is no difference in Mean of income group >50k and income group <=50k.\n",
    "* Alternate Hypothesis :- there is difference in Mean of income group >50k and income group <=50k."
   ]
  },
  {
   "cell_type": "code",
   "execution_count": null,
   "metadata": {
    "colab": {
     "base_uri": "https://localhost:8080/"
    },
    "id": "HBfLG4DC_bOG",
    "outputId": "c53ccb2d-c98f-4c51-c0c1-9ffe326cdcf0"
   },
   "outputs": [],
   "source": [
    "income_1 = data[data['income']==1][\"capital_change\"]\n",
    "income_0 = data[data['income']==0][\"capital_change\"]\n",
    "\n",
    "data = data[(np.abs(stats.zscore(data[\"age\"])) < 3)] \n",
    "\n",
    "income_0 = income_0.values.tolist()\n",
    "income_0 = random.sample(income_0, 50)\n",
    "income_1 = income_1.values.tolist()\n",
    "income_1 = random.sample(income_1, 50)\n",
    "\n",
    "ttest,pval = ttest_ind(income_1,income_0, equal_var=0)\n",
    "print(\"ttest\",ttest)\n",
    "print(\"p-value\",pval)\n",
    "\n",
    "if pval <0.05:\n",
    "    print(\"we reject null hypothesis\")\n",
    "else:\n",
    "    print(\"we accept null hypothesis\")"
   ]
  },
  {
   "cell_type": "markdown",
   "metadata": {
    "id": "WJO87IKt_bOH"
   },
   "source": [
    "### **v. Final conclusion**"
   ]
  },
  {
   "cell_type": "markdown",
   "metadata": {
    "id": "o70h9Eci_bOH"
   },
   "source": [
    "\n",
    "\n",
    "Using statistical analysis with the help of two sample t-test,\n",
    "\n",
    "    We can conclude that there is difference in Mean of income group >50k and income group <=50k.\n",
    "    Hence, we can replace capital-gain and capital-loss with capital-change.\n",
    "\n"
   ]
  },
  {
   "cell_type": "markdown",
   "metadata": {
    "id": "WDsutGt1_bOH"
   },
   "source": [
    "## **6. Conclusion of Complete EDA**"
   ]
  },
  {
   "cell_type": "markdown",
   "metadata": {
    "id": "U3wH6ePU_bOH"
   },
   "source": [
    "Feature Removal:\n",
    "\n",
    "    1. Education num and education are giving similar information.\n",
    "    2. Using capital-gain and capital loss , we can make new variable called capital-change.\n",
    "\n",
    "\n",
    "Outliers Summary:\n",
    "\n",
    "    1. Capital gain of 99999 doesn't follow any pattern and from graph above it clearly distinguishes to be an outlier.\n",
    "    2. Our dataset has people with age 90 and working for 40 hours per week in goverment or private sectors which is rare.\n",
    "\n",
    "\n",
    "\n",
    "Other conclusion:\n",
    "\n",
    "    1. This dataset not balance , i.e. 76% of them are belong to income group 1 (who earns more than 50k) and 23.93% fall under the income group 0 (who earns less than 50k).\n",
    "    \n",
    "    2. Females have more flexible working hours per week in the income groups who earns <=50k.\n",
    "    \n",
    "    3. Males have more flexible working hours per week in the income groups who earns >50k.\n",
    "    \n",
    "    4. The Median \"age\" of Females who earn greater than 50k has age difference of 2-3years(lower) than the Median \"age\" of males who earn greater than 50k.\n",
    "    \n",
    "    5. Generally people can be seen working for 30 hours to 40 hours per week. \n",
    "    \n",
    "    6. Income group who earns >50k have flexible working hours.\n",
    "    \n",
    "    7. For \"female\" earning more than 50k is rare with only 3.62% of all observations.\n",
    "       But for male, 20.31% of all people earn more than 50k .\n",
    "       \n",
    "    8. self-emp-inc workclass is only where more people earn >50k(belong to income group 1).\n",
    "    \n",
    "    9. People having degree doctorate,prof-school,masters are making salary more than 50K(it can be concluded that higher education means more salary).\n",
    "  \n",
    "Attributes affecting the target feature:\n",
    "    \n",
    "    Age \n",
    "    Hours per week\n",
    "    capital-change\n",
    "    workclass\n",
    "    Education\n",
    "    marital-status\n",
    "    occupation\n",
    "    relationship\n",
    "    race\n",
    "    gender\n",
    "    native-country\n"
   ]
  },
  {
   "cell_type": "markdown",
   "metadata": {
    "id": "ZIfLpaySDIsm"
   },
   "source": [
    "## Selecting Features"
   ]
  },
  {
   "cell_type": "code",
   "execution_count": null,
   "metadata": {
    "id": "l7Bcr50N_bOH"
   },
   "outputs": [],
   "source": [
    "# Convert Sex value to 0 and 1\n",
    "data[\"gender\"] = data[\"gender\"].map({\"Male\": 0, \"Female\":1})\n",
    "\n",
    "# Create Married Column - Binary Yes(1) or No(0)\n",
    "data[\"marital-status\"] = data[\"marital-status\"].replace(['Never-married','Divorced','Separated','Widowed'], 'Single')\n",
    "data[\"marital-status\"] = data[\"marital-status\"].replace(['Married-civ-spouse','Married-spouse-absent','Married-AF-spouse'], 'Married')\n",
    "data[\"marital-status\"] = data[\"marital-status\"].map({\"Married\":1, \"Single\":0})\n",
    "data[\"marital-status\"] = data[\"marital-status\"].astype(int)\n",
    "\n",
    "# Drop the data you don't want to use\n",
    "data.drop(labels=[\"workclass\",\"education\",\"occupation\",\"relationship\",\"race\",\"native-country\", \"capital_change\"], axis = 1, inplace = True)"
   ]
  },
  {
   "cell_type": "code",
   "execution_count": null,
   "metadata": {
    "colab": {
     "base_uri": "https://localhost:8080/",
     "height": 206
    },
    "id": "Nw22_kkTDXqU",
    "outputId": "2ec5492a-04d4-4cb9-ca8b-a2b3c81cf8c9"
   },
   "outputs": [],
   "source": [
    "data.head()"
   ]
  },
  {
   "cell_type": "code",
   "execution_count": null,
   "metadata": {
    "colab": {
     "base_uri": "https://localhost:8080/"
    },
    "id": "S37mm6H6FNTk",
    "outputId": "fc4a9a55-0c08-45cc-b4e0-07c5e9d0999c"
   },
   "outputs": [],
   "source": [
    "data.columns"
   ]
  },
  {
   "cell_type": "markdown",
   "metadata": {
    "id": "3tK9HP5sGzy-"
   },
   "source": [
    "## Model Building"
   ]
  },
  {
   "cell_type": "code",
   "execution_count": null,
   "metadata": {
    "id": "gJbUVEG8EGNV"
   },
   "outputs": [],
   "source": [
    "from sklearn.linear_model import LogisticRegression\n",
    "from sklearn.neighbors import KNeighborsClassifier\n",
    "from sklearn.tree import DecisionTreeClassifier\n",
    "from sklearn.naive_bayes import GaussianNB\n",
    "from sklearn.ensemble import RandomForestClassifier\n",
    "\n",
    "from sklearn.model_selection import GridSearchCV, cross_val_score, StratifiedKFold, learning_curve, train_test_split, KFold\n",
    "from sklearn.metrics import classification_report\n",
    "from sklearn.metrics import confusion_matrix\n",
    "from sklearn.metrics import accuracy_score"
   ]
  },
  {
   "cell_type": "code",
   "execution_count": null,
   "metadata": {
    "colab": {
     "base_uri": "https://localhost:8080/"
    },
    "id": "mVMi7DqUErLB",
    "outputId": "75a0f6e8-e882-4133-c971-945fa74feb28"
   },
   "outputs": [],
   "source": [
    "array = data.values\n",
    "X = array[:,0:8]\n",
    "Y = array[:,8]\n",
    "print('Split Data: X')\n",
    "print(X)\n",
    "print('Split Data: Y')\n",
    "print(Y)\n",
    "validation_size = 0.20\n",
    "seed = 7\n",
    "num_folds = 10\n",
    "scoring = 'accuracy'\n",
    "X_train, X_validation, Y_train, Y_validation = train_test_split(X,Y, test_size=validation_size)\n",
    "\n",
    "# Params for Random Forest\n",
    "num_trees = 100\n",
    "max_features = 3\n",
    "\n",
    "#Spot Check 4 Algorithms (LR, KNN, CART, GNB, RFC)\n",
    "models = []\n",
    "models.append(('LR', LogisticRegression()))\n",
    "models.append(('KNN', KNeighborsClassifier()))\n",
    "models.append(('CART', DecisionTreeClassifier()))\n",
    "models.append(('NB', GaussianNB()))\n",
    "models.append(('RF', RandomForestClassifier(n_estimators=num_trees, max_features=max_features, random_state=seed)))\n",
    "\n",
    "# evalutate each model in turn\n",
    "results = []\n",
    "names = []\n",
    "for name, model in models:\n",
    "    kfold = KFold(n_splits=10)\n",
    "    cv_results = cross_val_score(model, X_train, Y_train, cv=kfold, scoring='accuracy')\n",
    "    results.append(cv_results)\n",
    "    names.append(name)\n",
    "    msg = \"%s: %f (%f)\" % (name, cv_results.mean(), cv_results.std())\n",
    "    print(msg)"
   ]
  },
  {
   "cell_type": "code",
   "execution_count": null,
   "metadata": {
    "colab": {
     "base_uri": "https://localhost:8080/",
     "height": 294
    },
    "id": "KzrJq3KJFCC7",
    "outputId": "c7ba19bc-b85a-4afa-ccb3-7e92adcafbce"
   },
   "outputs": [],
   "source": [
    "fig = plt.figure()\n",
    "fig.suptitle('Algorith Comparison')\n",
    "ax = fig.add_subplot(111)\n",
    "plt.boxplot(results)\n",
    "ax.set_xticklabels(names)\n",
    "plt.show()"
   ]
  },
  {
   "cell_type": "markdown",
   "metadata": {
    "id": "qCq3TxZSG8W2"
   },
   "source": [
    "### ***Algo Tuning***\n",
    "\n",
    "1. best n_estimator = 250\n",
    "\n",
    "2. best max_feature = 5\n",
    "\n",
    "***Tune Random Forest***\n",
    "\n",
    "3. n_estimators = np.array([50,100,150,200,250])\n",
    "\n",
    "4. max_features = np.array([1,2,3,4,5])\n",
    "\n",
    "5. param_grid = dict(n_estimators=n_estimators,max_features=max_features)\n",
    "\n",
    "6. model = RandomForestClassifier()\n",
    "\n",
    "7. kfold = KFold(n_splits=num_folds, random_state=seed)\n",
    "\n",
    "8. grid = GridSearchCV(estimator=model, param_grid=param_grid, scoring=scoring, \n",
    "cv=kfold)\n",
    "\n",
    "9. grid_result = grid.fit(X_train, Y_train)\n",
    "\n",
    "10. print(\"Best: %f using %s\" % (grid_result.best_score_, grid_result.best_params_))\n",
    "\n",
    "11. means = grid_result.cv_results_['mean_test_score']\n",
    "\n",
    "12. stds = grid_result.cv_results_['std_test_score']\n",
    "\n",
    "13. params = grid_result.cv_results_['params']\n",
    "\n",
    "14. for mean, stdev, param in zip(means, stds, params):\n",
    "     \n",
    "     print(\"%f (%f) with: %r\" % (mean, stdev, param))"
   ]
  },
  {
   "cell_type": "markdown",
   "metadata": {
    "id": "bjd5gaRkHUs0"
   },
   "source": [
    "## Finalize Model"
   ]
  },
  {
   "cell_type": "code",
   "execution_count": null,
   "metadata": {
    "colab": {
     "base_uri": "https://localhost:8080/"
    },
    "id": "eqbmf6LUGx8L",
    "outputId": "9b30d380-4255-4b72-9d82-2908c4406e50"
   },
   "outputs": [],
   "source": [
    "random_forest = RandomForestClassifier(n_estimators=250,max_features=5)\n",
    "random_forest.fit(X_train, Y_train)\n",
    "predictions = random_forest.predict(X_validation)\n",
    "print(\"Accuracy: %s%%\" % (100*accuracy_score(Y_validation, predictions)))\n",
    "print(confusion_matrix(Y_validation, predictions))\n",
    "print(classification_report(Y_validation, predictions))"
   ]
  },
  {
   "cell_type": "code",
   "execution_count": null,
   "metadata": {
    "id": "vObKc65mHXHw"
   },
   "outputs": [],
   "source": []
  }
 ],
 "metadata": {
  "colab": {
   "provenance": []
  },
  "kernelspec": {
   "display_name": "Python 3 (ipykernel)",
   "language": "python",
   "name": "python3"
  },
  "language_info": {
   "codemirror_mode": {
    "name": "ipython",
    "version": 3
   },
   "file_extension": ".py",
   "mimetype": "text/x-python",
   "name": "python",
   "nbconvert_exporter": "python",
   "pygments_lexer": "ipython3",
   "version": "3.9.12"
  }
 },
 "nbformat": 4,
 "nbformat_minor": 1
}
